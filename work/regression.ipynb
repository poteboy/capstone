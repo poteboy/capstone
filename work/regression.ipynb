{
 "cells": [
  {
   "cell_type": "code",
   "execution_count": 2,
   "metadata": {},
   "outputs": [],
   "source": [
    "%load_ext Cython"
   ]
  },
  {
   "cell_type": "code",
   "execution_count": 3,
   "metadata": {},
   "outputs": [],
   "source": [
    "%%cython\n",
    "import numpy as np\n",
    "import matplotlib.pyplot as plt\n",
    "from sklearn.model_selection import train_test_split\n",
    "import pandas\n",
    "from tensorflow.keras.models import Sequential\n",
    "import tensorflow as tf\n",
    "from tensorflow.keras.layers import Dense\n",
    "from tensorflow.keras import optimizers\n",
    "from keras.callbacks import EarlyStopping\n",
    "from keras.layers.normalization import BatchNormalization\n",
    "csv = './openpowerlifting-2020-09-06.csv'\n",
    "df = pandas.read_csv(csv,index_col=0,low_memory=False)\n",
    "df['Sex'] = df['Sex'].map({'M': 1, 'F': 0, 'Mx': -1})\n",
    "df['Equipment'] = df['Equipment'].map({'Single-ply':0, 'Raw':1, 'Wraps':2, 'Unlimited':3, 'Multi-ply':4})\n",
    "data = df[['Sex','BodyweightKg', 'Best3SquatKg', 'Best3DeadliftKg','Age','Equipment', 'Best3BenchKg']].dropna(how='any')"
   ]
  },
  {
   "cell_type": "code",
   "execution_count": 4,
   "metadata": {},
   "outputs": [
    {
     "data": {
      "text/plain": [
       "Sex                681124\n",
       "BodyweightKg       681124\n",
       "Best3SquatKg       681124\n",
       "Best3DeadliftKg    681124\n",
       "Age                681124\n",
       "Equipment          681124\n",
       "Best3BenchKg       681124\n",
       "dtype: int64"
      ]
     },
     "execution_count": 4,
     "metadata": {},
     "output_type": "execute_result"
    }
   ],
   "source": [
    "data.count()"
   ]
  },
  {
   "cell_type": "code",
   "execution_count": 5,
   "metadata": {},
   "outputs": [
    {
     "data": {
      "text/html": [
       "<div>\n",
       "<style scoped>\n",
       "    .dataframe tbody tr th:only-of-type {\n",
       "        vertical-align: middle;\n",
       "    }\n",
       "\n",
       "    .dataframe tbody tr th {\n",
       "        vertical-align: top;\n",
       "    }\n",
       "\n",
       "    .dataframe thead th {\n",
       "        text-align: right;\n",
       "    }\n",
       "</style>\n",
       "<table border=\"1\" class=\"dataframe\">\n",
       "  <thead>\n",
       "    <tr style=\"text-align: right;\">\n",
       "      <th></th>\n",
       "      <th>Sex</th>\n",
       "      <th>BodyweightKg</th>\n",
       "      <th>Best3SquatKg</th>\n",
       "      <th>Best3DeadliftKg</th>\n",
       "      <th>Age</th>\n",
       "      <th>Equipment</th>\n",
       "      <th>Best3BenchKg</th>\n",
       "    </tr>\n",
       "    <tr>\n",
       "      <th>Name</th>\n",
       "      <th></th>\n",
       "      <th></th>\n",
       "      <th></th>\n",
       "      <th></th>\n",
       "      <th></th>\n",
       "      <th></th>\n",
       "      <th></th>\n",
       "    </tr>\n",
       "  </thead>\n",
       "  <tbody>\n",
       "    <tr>\n",
       "      <th>Clint Samuels</th>\n",
       "      <td>1</td>\n",
       "      <td>82.5</td>\n",
       "      <td>195.04</td>\n",
       "      <td>249.48</td>\n",
       "      <td>27.5</td>\n",
       "      <td>2.0</td>\n",
       "      <td>138.35</td>\n",
       "    </tr>\n",
       "    <tr>\n",
       "      <th>Zach Lerner</th>\n",
       "      <td>1</td>\n",
       "      <td>82.5</td>\n",
       "      <td>183.70</td>\n",
       "      <td>215.46</td>\n",
       "      <td>32.5</td>\n",
       "      <td>2.0</td>\n",
       "      <td>111.13</td>\n",
       "    </tr>\n",
       "    <tr>\n",
       "      <th>Sam Cox #2</th>\n",
       "      <td>1</td>\n",
       "      <td>110.0</td>\n",
       "      <td>288.03</td>\n",
       "      <td>317.51</td>\n",
       "      <td>24.0</td>\n",
       "      <td>2.0</td>\n",
       "      <td>163.29</td>\n",
       "    </tr>\n",
       "    <tr>\n",
       "      <th>Adam Vediz</th>\n",
       "      <td>1</td>\n",
       "      <td>110.0</td>\n",
       "      <td>226.80</td>\n",
       "      <td>226.80</td>\n",
       "      <td>38.5</td>\n",
       "      <td>2.0</td>\n",
       "      <td>170.10</td>\n",
       "    </tr>\n",
       "    <tr>\n",
       "      <th>Michaela Smith</th>\n",
       "      <td>0</td>\n",
       "      <td>75.0</td>\n",
       "      <td>138.35</td>\n",
       "      <td>142.88</td>\n",
       "      <td>27.0</td>\n",
       "      <td>2.0</td>\n",
       "      <td>65.77</td>\n",
       "    </tr>\n",
       "  </tbody>\n",
       "</table>\n",
       "</div>"
      ],
      "text/plain": [
       "                Sex  BodyweightKg  Best3SquatKg  Best3DeadliftKg   Age  \\\n",
       "Name                                                                     \n",
       "Clint Samuels     1          82.5        195.04           249.48  27.5   \n",
       "Zach Lerner       1          82.5        183.70           215.46  32.5   \n",
       "Sam Cox #2        1         110.0        288.03           317.51  24.0   \n",
       "Adam Vediz        1         110.0        226.80           226.80  38.5   \n",
       "Michaela Smith    0          75.0        138.35           142.88  27.0   \n",
       "\n",
       "                Equipment  Best3BenchKg  \n",
       "Name                                     \n",
       "Clint Samuels         2.0        138.35  \n",
       "Zach Lerner           2.0        111.13  \n",
       "Sam Cox #2            2.0        163.29  \n",
       "Adam Vediz            2.0        170.10  \n",
       "Michaela Smith        2.0         65.77  "
      ]
     },
     "execution_count": 5,
     "metadata": {},
     "output_type": "execute_result"
    }
   ],
   "source": [
    "data.head(5)"
   ]
  },
  {
   "cell_type": "code",
   "execution_count": 6,
   "metadata": {},
   "outputs": [
    {
     "data": {
      "text/plain": [
       "(681124, 7)"
      ]
     },
     "execution_count": 6,
     "metadata": {},
     "output_type": "execute_result"
    }
   ],
   "source": [
    "data = np.array(data)\n",
    "data.shape"
   ]
  },
  {
   "cell_type": "code",
   "execution_count": 7,
   "metadata": {},
   "outputs": [
    {
     "data": {
      "text/plain": [
       "(681124, 7)"
      ]
     },
     "execution_count": 7,
     "metadata": {},
     "output_type": "execute_result"
    }
   ],
   "source": [
    "# MinMaxScalerで正規化を実施\n",
    "from sklearn.preprocessing import MinMaxScaler\n",
    "sc = MinMaxScaler()\n",
    "data_std = sc.fit_transform(data)\n",
    "data_std.shape"
   ]
  },
  {
   "cell_type": "code",
   "execution_count": 17,
   "metadata": {},
   "outputs": [],
   "source": [
    "X_train, X_test, Y_train, Y_test = train_test_split(data_std[:,:-1], data_std[:,-1], test_size=0.2)"
   ]
  },
  {
   "cell_type": "code",
   "execution_count": 18,
   "metadata": {},
   "outputs": [],
   "source": [
    "# Trainをさらに 8:2 に分ける\n",
    "X_train, X_validation, Y_train, Y_validation = train_test_split(X_train, Y_train, test_size=0.2)"
   ]
  },
  {
   "cell_type": "code",
   "execution_count": 19,
   "metadata": {},
   "outputs": [
    {
     "name": "stdout",
     "output_type": "stream",
     "text": [
      "学習データ： (435919,) (435919, 6)\n",
      "検証データ： (108980,) (108980, 6)\n",
      "Testデータ： (136225,) (136225, 6)\n"
     ]
    }
   ],
   "source": [
    "print(\"学習データ：\", Y_train.shape, X_train.shape)\n",
    "print(\"検証データ：\", Y_validation.shape, X_validation.shape)\n",
    "print(\"Testデータ：\", Y_test.shape, X_test.shape)"
   ]
  },
  {
   "cell_type": "code",
   "execution_count": 32,
   "metadata": {},
   "outputs": [],
   "source": [
    "from tensorflow.keras.models import Sequential\n",
    "import tensorflow as tf\n",
    "from tensorflow.keras.layers import Dense\n",
    "from tensorflow.keras import optimizers\n",
    "from keras.callbacks import EarlyStopping\n",
    "from keras.layers.normalization import BatchNormalization\n",
    "\n",
    "# coefficient of determination (R^2) for regression\n",
    "def r_square(y_true, y_pred):\n",
    "    from keras import backend as K\n",
    "    SS_res =  K.sum(K.square(y_true - y_pred)) \n",
    "    SS_tot = K.sum(K.square(y_true - K.mean(y_true))) \n",
    "    return (1 - SS_res/(SS_tot + K.epsilon()))\n",
    "\n",
    "# 特徴量の数=入力層の列数(ニューロン数)=18\n",
    "n_features = 6\n",
    "# 隠れ層のニューロン数\n",
    "n_hidden   = 4\n",
    "\n",
    "# モデルの初期化\n",
    "model = Sequential()\n",
    "\n",
    "# 入力層\n",
    "model.add(Dense(n_hidden, activation='sigmoid', input_shape=(n_features,)))\n",
    "# 隠れ層\n",
    "model.add(Dense(n_hidden, activation='sigmoid'))\n",
    "# 出力層\n",
    "model.add(Dense(1, activation='sigmoid'))\n",
    "\n",
    "# モデルの構築\n",
    "optimizer = optimizers.SGD(learning_rate=0.1)\n",
    "model.compile(optimizer=optimizer,\n",
    "              loss='mse', metrics=['mae', r_square])"
   ]
  },
  {
   "cell_type": "code",
   "execution_count": 35,
   "metadata": {},
   "outputs": [
    {
     "name": "stdout",
     "output_type": "stream",
     "text": [
      "Epoch 1/30\n",
      "6812/6812 [==============================] - 11s 2ms/step - loss: 0.0026 - mae: 0.0395 - r_square: 0.3543 - val_loss: 0.0024 - val_mae: 0.0375 - val_r_square: 0.4048\n",
      "Epoch 2/30\n",
      "6812/6812 [==============================] - 10s 2ms/step - loss: 0.0023 - mae: 0.0360 - r_square: 0.4390 - val_loss: 0.0021 - val_mae: 0.0346 - val_r_square: 0.4720\n",
      "Epoch 3/30\n",
      "6812/6812 [==============================] - 9s 1ms/step - loss: 0.0020 - mae: 0.0337 - r_square: 0.4924 - val_loss: 0.0019 - val_mae: 0.0327 - val_r_square: 0.5152\n",
      "Epoch 4/30\n",
      "6812/6812 [==============================] - 9s 1ms/step - loss: 0.0019 - mae: 0.0321 - r_square: 0.5314 - val_loss: 0.0018 - val_mae: 0.0312 - val_r_square: 0.5512\n",
      "Epoch 5/30\n",
      "6812/6812 [==============================] - 8s 1ms/step - loss: 0.0018 - mae: 0.0307 - r_square: 0.5666 - val_loss: 0.0017 - val_mae: 0.0299 - val_r_square: 0.5871\n",
      "Epoch 6/30\n",
      "6812/6812 [==============================] - 8s 1ms/step - loss: 0.0016 - mae: 0.0293 - r_square: 0.6034 - val_loss: 0.0015 - val_mae: 0.0284 - val_r_square: 0.6244\n",
      "Epoch 7/30\n",
      "6812/6812 [==============================] - 8s 1ms/step - loss: 0.0015 - mae: 0.0277 - r_square: 0.6410 - val_loss: 0.0014 - val_mae: 0.0269 - val_r_square: 0.6613\n",
      "Epoch 8/30\n",
      "6812/6812 [==============================] - 9s 1ms/step - loss: 0.0013 - mae: 0.0262 - r_square: 0.6767 - val_loss: 0.0012 - val_mae: 0.0253 - val_r_square: 0.6951\n",
      "Epoch 9/30\n",
      "6812/6812 [==============================] - 9s 1ms/step - loss: 0.0012 - mae: 0.0248 - r_square: 0.7076 - val_loss: 0.0011 - val_mae: 0.0240 - val_r_square: 0.7234\n",
      "Epoch 10/30\n",
      "6812/6812 [==============================] - 8s 1ms/step - loss: 0.0011 - mae: 0.0235 - r_square: 0.7329 - val_loss: 0.0010 - val_mae: 0.0229 - val_r_square: 0.7457\n",
      "Epoch 11/30\n",
      "6812/6812 [==============================] - 10s 1ms/step - loss: 0.0010 - mae: 0.0225 - r_square: 0.7526 - val_loss: 9.5739e-04 - val_mae: 0.0220 - val_r_square: 0.7623\n",
      "Epoch 12/30\n",
      "6812/6812 [==============================] - 11s 2ms/step - loss: 9.4999e-04 - mae: 0.0217 - r_square: 0.7676 - val_loss: 9.0515e-04 - val_mae: 0.0212 - val_r_square: 0.7754\n",
      "Epoch 13/30\n",
      "6812/6812 [==============================] - 12s 2ms/step - loss: 9.0391e-04 - mae: 0.0210 - r_square: 0.7790 - val_loss: 8.6479e-04 - val_mae: 0.0206 - val_r_square: 0.7855\n",
      "Epoch 14/30\n",
      "6812/6812 [==============================] - 9s 1ms/step - loss: 8.6741e-04 - mae: 0.0204 - r_square: 0.7879 - val_loss: 8.3221e-04 - val_mae: 0.0201 - val_r_square: 0.7937\n",
      "Epoch 15/30\n",
      "6812/6812 [==============================] - 9s 1ms/step - loss: 8.3758e-04 - mae: 0.0200 - r_square: 0.7954 - val_loss: 8.0524e-04 - val_mae: 0.0197 - val_r_square: 0.8004\n",
      "Epoch 16/30\n",
      "6812/6812 [==============================] - 8s 1ms/step - loss: 8.1263e-04 - mae: 0.0196 - r_square: 0.8017 - val_loss: 7.8357e-04 - val_mae: 0.0194 - val_r_square: 0.8057\n",
      "Epoch 17/30\n",
      "6812/6812 [==============================] - 9s 1ms/step - loss: 7.9160e-04 - mae: 0.0192 - r_square: 0.8066 - val_loss: 7.6328e-04 - val_mae: 0.0190 - val_r_square: 0.8110\n",
      "Epoch 18/30\n",
      "6812/6812 [==============================] - 9s 1ms/step - loss: 7.7384e-04 - mae: 0.0189 - r_square: 0.8112 - val_loss: 7.4711e-04 - val_mae: 0.0188 - val_r_square: 0.8150\n",
      "Epoch 19/30\n",
      "6812/6812 [==============================] - 9s 1ms/step - loss: 7.5892e-04 - mae: 0.0187 - r_square: 0.8149 - val_loss: 7.3545e-04 - val_mae: 0.0185 - val_r_square: 0.8181\n",
      "Epoch 20/30\n",
      "6812/6812 [==============================] - 8s 1ms/step - loss: 7.4640e-04 - mae: 0.0185 - r_square: 0.8177 - val_loss: 7.2229e-04 - val_mae: 0.0183 - val_r_square: 0.8213\n",
      "Epoch 21/30\n",
      "6812/6812 [==============================] - 9s 1ms/step - loss: 7.3607e-04 - mae: 0.0183 - r_square: 0.8206 - val_loss: 7.1298e-04 - val_mae: 0.0181 - val_r_square: 0.8236\n",
      "Epoch 22/30\n",
      "6812/6812 [==============================] - 9s 1ms/step - loss: 7.2744e-04 - mae: 0.0181 - r_square: 0.8225 - val_loss: 7.0628e-04 - val_mae: 0.0180 - val_r_square: 0.8253\n",
      "Epoch 23/30\n",
      "6812/6812 [==============================] - 11s 2ms/step - loss: 7.2036e-04 - mae: 0.0180 - r_square: 0.8244 - val_loss: 6.9971e-04 - val_mae: 0.0180 - val_r_square: 0.8268\n",
      "Epoch 24/30\n",
      "6812/6812 [==============================] - 10s 1ms/step - loss: 7.1449e-04 - mae: 0.0179 - r_square: 0.8259 - val_loss: 6.9364e-04 - val_mae: 0.0178 - val_r_square: 0.8283\n",
      "Epoch 25/30\n",
      "6812/6812 [==============================] - 9s 1ms/step - loss: 7.0958e-04 - mae: 0.0178 - r_square: 0.8269 - val_loss: 6.9002e-04 - val_mae: 0.0178 - val_r_square: 0.8291\n",
      "Epoch 26/30\n",
      "6812/6812 [==============================] - 10s 2ms/step - loss: 7.0553e-04 - mae: 0.0178 - r_square: 0.8281 - val_loss: 6.8697e-04 - val_mae: 0.0178 - val_r_square: 0.8298\n",
      "Epoch 27/30\n",
      "6812/6812 [==============================] - 8s 1ms/step - loss: 7.0206e-04 - mae: 0.0177 - r_square: 0.8289 - val_loss: 6.8294e-04 - val_mae: 0.0176 - val_r_square: 0.8310\n",
      "Epoch 28/30\n",
      "6812/6812 [==============================] - 8s 1ms/step - loss: 6.9917e-04 - mae: 0.0176 - r_square: 0.8298 - val_loss: 6.8127e-04 - val_mae: 0.0175 - val_r_square: 0.8315\n",
      "Epoch 29/30\n",
      "6812/6812 [==============================] - 9s 1ms/step - loss: 6.9664e-04 - mae: 0.0176 - r_square: 0.8301 - val_loss: 6.7780e-04 - val_mae: 0.0175 - val_r_square: 0.8321\n",
      "Epoch 30/30\n",
      "6812/6812 [==============================] - 9s 1ms/step - loss: 6.9448e-04 - mae: 0.0176 - r_square: 0.8307 - val_loss: 6.7657e-04 - val_mae: 0.0176 - val_r_square: 0.8324\n"
     ]
    }
   ],
   "source": [
    "log = model.fit(X_train, Y_train, epochs=30, batch_size=64, verbose=1,\n",
    "         validation_data=(X_validation, Y_validation))\n",
    "Y_pred = model.predict(X_test)"
   ]
  },
  {
   "cell_type": "code",
   "execution_count": 36,
   "metadata": {},
   "outputs": [
    {
     "data": {
      "image/png": "[encoded data removed]",
      "text/plain": [
       "<Figure size 432x288 with 1 Axes>"
      ]
     },
     "metadata": {
      "needs_background": "light"
     },
     "output_type": "display_data"
    },
    {
     "data": {
      "image/png": "[encoded data removed]",
      "text/plain": [
       "<Figure size 432x288 with 1 Axes>"
      ]
     },
     "metadata": {
      "needs_background": "light"
     },
     "output_type": "display_data"
    }
   ],
   "source": [
    "# plot training curve for R^2 (beware of scale, starts very low negative)\n",
    "plt.plot(log.history['val_r_square'])\n",
    "plt.plot(log.history['r_square'])\n",
    "plt.title('model R^2')\n",
    "plt.ylabel('R^2')\n",
    "plt.xlabel('epoch')\n",
    "plt.legend(['train', 'test'], loc='upper left')\n",
    "plt.show()\n",
    "\n",
    "# plot training curve for rmse\n",
    "plt.plot(log.history['mae'])\n",
    "plt.plot(log.history['val_mae'])\n",
    "plt.title('mae')\n",
    "plt.ylabel('mae')\n",
    "plt.xlabel('epoch')\n",
    "plt.legend(['train', 'test'], loc='upper left')\n",
    "plt.show()"
   ]
  },
  {
   "cell_type": "code",
   "execution_count": null,
   "metadata": {},
   "outputs": [],
   "source": []
  }
 ],
 "metadata": {
  "kernelspec": {
   "display_name": "Python 3",
   "language": "python",
   "name": "python3"
  },
  "language_info": {
   "codemirror_mode": {
    "name": "ipython",
    "version": 3
   },
   "file_extension": ".py",
   "mimetype": "text/x-python",
   "name": "python",
   "nbconvert_exporter": "python",
   "pygments_lexer": "ipython3",
   "version": "3.8.6"
  }
 },
 "nbformat": 4,
 "nbformat_minor": 4
}
