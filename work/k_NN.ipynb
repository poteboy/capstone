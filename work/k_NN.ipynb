{
 "cells": [
  {
   "cell_type": "code",
   "execution_count": 2,
   "metadata": {},
   "outputs": [],
   "source": [
    "%load_ext Cython"
   ]
  },
  {
   "cell_type": "code",
   "execution_count": 3,
   "metadata": {},
   "outputs": [],
   "source": [
    "%%cython\n",
    "import numpy, matplotlib, pandas\n",
    "\n",
    "csv = './openpowerlifting-2020-09-06.csv'\n",
    "df = pandas.read_csv(csv,index_col=0,low_memory=False)\n",
    "df['Sex'] = df['Sex'].map({'M': 1, 'F': 0, 'Mx': -1})\n",
    "data = df[['Sex','BodyweightKg', 'Best3SquatKg', 'Best3DeadliftKg', 'Best3BenchKg','Age','Country','Equipment']].dropna(how='any')\n"
   ]
  },
  {
   "cell_type": "code",
   "execution_count": 4,
   "metadata": {},
   "outputs": [
    {
     "data": {
      "text/html": [
       "<div>\n",
       "<style scoped>\n",
       "    .dataframe tbody tr th:only-of-type {\n",
       "        vertical-align: middle;\n",
       "    }\n",
       "\n",
       "    .dataframe tbody tr th {\n",
       "        vertical-align: top;\n",
       "    }\n",
       "\n",
       "    .dataframe thead th {\n",
       "        text-align: right;\n",
       "    }\n",
       "</style>\n",
       "<table border=\"1\" class=\"dataframe\">\n",
       "  <thead>\n",
       "    <tr style=\"text-align: right;\">\n",
       "      <th></th>\n",
       "      <th>Sex</th>\n",
       "      <th>BodyweightKg</th>\n",
       "      <th>Best3SquatKg</th>\n",
       "      <th>Best3DeadliftKg</th>\n",
       "      <th>Best3BenchKg</th>\n",
       "      <th>Age</th>\n",
       "      <th>Country</th>\n",
       "      <th>Equipment</th>\n",
       "    </tr>\n",
       "    <tr>\n",
       "      <th>Name</th>\n",
       "      <th></th>\n",
       "      <th></th>\n",
       "      <th></th>\n",
       "      <th></th>\n",
       "      <th></th>\n",
       "      <th></th>\n",
       "      <th></th>\n",
       "      <th></th>\n",
       "    </tr>\n",
       "  </thead>\n",
       "  <tbody>\n",
       "    <tr>\n",
       "      <th>Sam Cox #2</th>\n",
       "      <td>1</td>\n",
       "      <td>110.0</td>\n",
       "      <td>288.03</td>\n",
       "      <td>317.51</td>\n",
       "      <td>163.29</td>\n",
       "      <td>24.0</td>\n",
       "      <td>USA</td>\n",
       "      <td>Wraps</td>\n",
       "    </tr>\n",
       "    <tr>\n",
       "      <th>Adam Vediz</th>\n",
       "      <td>1</td>\n",
       "      <td>110.0</td>\n",
       "      <td>226.80</td>\n",
       "      <td>226.80</td>\n",
       "      <td>170.10</td>\n",
       "      <td>38.5</td>\n",
       "      <td>USA</td>\n",
       "      <td>Wraps</td>\n",
       "    </tr>\n",
       "    <tr>\n",
       "      <th>Michaela Smith</th>\n",
       "      <td>0</td>\n",
       "      <td>75.0</td>\n",
       "      <td>138.35</td>\n",
       "      <td>142.88</td>\n",
       "      <td>65.77</td>\n",
       "      <td>27.0</td>\n",
       "      <td>USA</td>\n",
       "      <td>Wraps</td>\n",
       "    </tr>\n",
       "    <tr>\n",
       "      <th>Jessi Freeman</th>\n",
       "      <td>0</td>\n",
       "      <td>75.0</td>\n",
       "      <td>83.91</td>\n",
       "      <td>104.33</td>\n",
       "      <td>49.90</td>\n",
       "      <td>34.5</td>\n",
       "      <td>USA</td>\n",
       "      <td>Wraps</td>\n",
       "    </tr>\n",
       "    <tr>\n",
       "      <th>Etelvina Neves</th>\n",
       "      <td>0</td>\n",
       "      <td>66.8</td>\n",
       "      <td>130.00</td>\n",
       "      <td>195.00</td>\n",
       "      <td>60.00</td>\n",
       "      <td>32.5</td>\n",
       "      <td>Portugal</td>\n",
       "      <td>Raw</td>\n",
       "    </tr>\n",
       "  </tbody>\n",
       "</table>\n",
       "</div>"
      ],
      "text/plain": [
       "                Sex  BodyweightKg  Best3SquatKg  Best3DeadliftKg  \\\n",
       "Name                                                               \n",
       "Sam Cox #2        1         110.0        288.03           317.51   \n",
       "Adam Vediz        1         110.0        226.80           226.80   \n",
       "Michaela Smith    0          75.0        138.35           142.88   \n",
       "Jessi Freeman     0          75.0         83.91           104.33   \n",
       "Etelvina Neves    0          66.8        130.00           195.00   \n",
       "\n",
       "                Best3BenchKg   Age   Country Equipment  \n",
       "Name                                                    \n",
       "Sam Cox #2            163.29  24.0       USA     Wraps  \n",
       "Adam Vediz            170.10  38.5       USA     Wraps  \n",
       "Michaela Smith         65.77  27.0       USA     Wraps  \n",
       "Jessi Freeman          49.90  34.5       USA     Wraps  \n",
       "Etelvina Neves         60.00  32.5  Portugal       Raw  "
      ]
     },
     "execution_count": 4,
     "metadata": {},
     "output_type": "execute_result"
    }
   ],
   "source": [
    "data.head(5)"
   ]
  },
  {
   "cell_type": "code",
   "execution_count": 5,
   "metadata": {},
   "outputs": [],
   "source": [
    "import numpy as np\n",
    "from sklearn.model_selection import train_test_split"
   ]
  },
  {
   "cell_type": "code",
   "execution_count": 6,
   "metadata": {},
   "outputs": [],
   "source": [
    "# 訓練セットとテストセットに分ける\n",
    "X_train, X_test, y_train, y_test  = train_test_split(\n",
    "    data.drop(['Best3BenchKg', 'Country', 'Equipment'], axis = 1).astype('int'),\n",
    "    data['Best3BenchKg'].astype('int')\n",
    ")"
   ]
  },
  {
   "cell_type": "code",
   "execution_count": 57,
   "metadata": {},
   "outputs": [
    {
     "data": {
      "text/html": [
       "<div>\n",
       "<style scoped>\n",
       "    .dataframe tbody tr th:only-of-type {\n",
       "        vertical-align: middle;\n",
       "    }\n",
       "\n",
       "    .dataframe tbody tr th {\n",
       "        vertical-align: top;\n",
       "    }\n",
       "\n",
       "    .dataframe thead th {\n",
       "        text-align: right;\n",
       "    }\n",
       "</style>\n",
       "<table border=\"1\" class=\"dataframe\">\n",
       "  <thead>\n",
       "    <tr style=\"text-align: right;\">\n",
       "      <th></th>\n",
       "      <th>Sex</th>\n",
       "      <th>BodyweightKg</th>\n",
       "      <th>Best3SquatKg</th>\n",
       "      <th>Best3DeadliftKg</th>\n",
       "      <th>Age</th>\n",
       "    </tr>\n",
       "    <tr>\n",
       "      <th>Name</th>\n",
       "      <th></th>\n",
       "      <th></th>\n",
       "      <th></th>\n",
       "      <th></th>\n",
       "      <th></th>\n",
       "    </tr>\n",
       "  </thead>\n",
       "  <tbody>\n",
       "    <tr>\n",
       "      <th>Dustin Bassett</th>\n",
       "      <td>1</td>\n",
       "      <td>82</td>\n",
       "      <td>145</td>\n",
       "      <td>170</td>\n",
       "      <td>29</td>\n",
       "    </tr>\n",
       "    <tr>\n",
       "      <th>Aurangazeb Khurram Hafiz</th>\n",
       "      <td>1</td>\n",
       "      <td>116</td>\n",
       "      <td>272</td>\n",
       "      <td>265</td>\n",
       "      <td>43</td>\n",
       "    </tr>\n",
       "    <tr>\n",
       "      <th>Stetson Drolet</th>\n",
       "      <td>1</td>\n",
       "      <td>74</td>\n",
       "      <td>162</td>\n",
       "      <td>177</td>\n",
       "      <td>26</td>\n",
       "    </tr>\n",
       "  </tbody>\n",
       "</table>\n",
       "</div>"
      ],
      "text/plain": [
       "                          Sex  BodyweightKg  Best3SquatKg  Best3DeadliftKg  \\\n",
       "Name                                                                         \n",
       "Dustin Bassett              1            82           145              170   \n",
       "Aurangazeb Khurram Hafiz    1           116           272              265   \n",
       "Stetson Drolet              1            74           162              177   \n",
       "\n",
       "                          Age  \n",
       "Name                           \n",
       "Dustin Bassett             29  \n",
       "Aurangazeb Khurram Hafiz   43  \n",
       "Stetson Drolet             26  "
      ]
     },
     "execution_count": 57,
     "metadata": {},
     "output_type": "execute_result"
    }
   ],
   "source": [
    "X_train.head(3)"
   ]
  },
  {
   "cell_type": "code",
   "execution_count": 58,
   "metadata": {},
   "outputs": [
    {
     "data": {
      "text/html": [
       "<div>\n",
       "<style scoped>\n",
       "    .dataframe tbody tr th:only-of-type {\n",
       "        vertical-align: middle;\n",
       "    }\n",
       "\n",
       "    .dataframe tbody tr th {\n",
       "        vertical-align: top;\n",
       "    }\n",
       "\n",
       "    .dataframe thead th {\n",
       "        text-align: right;\n",
       "    }\n",
       "</style>\n",
       "<table border=\"1\" class=\"dataframe\">\n",
       "  <thead>\n",
       "    <tr style=\"text-align: right;\">\n",
       "      <th></th>\n",
       "      <th>Sex</th>\n",
       "      <th>BodyweightKg</th>\n",
       "      <th>Best3SquatKg</th>\n",
       "      <th>Best3DeadliftKg</th>\n",
       "      <th>Age</th>\n",
       "    </tr>\n",
       "    <tr>\n",
       "      <th>Name</th>\n",
       "      <th></th>\n",
       "      <th></th>\n",
       "      <th></th>\n",
       "      <th></th>\n",
       "      <th></th>\n",
       "    </tr>\n",
       "  </thead>\n",
       "  <tbody>\n",
       "    <tr>\n",
       "      <th>Alexander Sidorchuk</th>\n",
       "      <td>1</td>\n",
       "      <td>87</td>\n",
       "      <td>230</td>\n",
       "      <td>220</td>\n",
       "      <td>40</td>\n",
       "    </tr>\n",
       "    <tr>\n",
       "      <th>Sergiy Dyachenko</th>\n",
       "      <td>1</td>\n",
       "      <td>59</td>\n",
       "      <td>220</td>\n",
       "      <td>200</td>\n",
       "      <td>21</td>\n",
       "    </tr>\n",
       "    <tr>\n",
       "      <th>Blake Kirk</th>\n",
       "      <td>1</td>\n",
       "      <td>65</td>\n",
       "      <td>162</td>\n",
       "      <td>180</td>\n",
       "      <td>16</td>\n",
       "    </tr>\n",
       "  </tbody>\n",
       "</table>\n",
       "</div>"
      ],
      "text/plain": [
       "                     Sex  BodyweightKg  Best3SquatKg  Best3DeadliftKg  Age\n",
       "Name                                                                      \n",
       "Alexander Sidorchuk    1            87           230              220   40\n",
       "Sergiy Dyachenko       1            59           220              200   21\n",
       "Blake Kirk             1            65           162              180   16"
      ]
     },
     "execution_count": 58,
     "metadata": {},
     "output_type": "execute_result"
    }
   ],
   "source": [
    "X_test.head(3)"
   ]
  },
  {
   "cell_type": "code",
   "execution_count": 59,
   "metadata": {},
   "outputs": [
    {
     "data": {
      "text/plain": [
       "Name\n",
       "Dustin Bassett               90\n",
       "Aurangazeb Khurram Hafiz    160\n",
       "Stetson Drolet               95\n",
       "Name: Best3BenchKg, dtype: int64"
      ]
     },
     "execution_count": 59,
     "metadata": {},
     "output_type": "execute_result"
    }
   ],
   "source": [
    "y_train.head(3)"
   ]
  },
  {
   "cell_type": "code",
   "execution_count": 60,
   "metadata": {},
   "outputs": [
    {
     "data": {
      "text/plain": [
       "KNeighborsClassifier(n_neighbors=3)"
      ]
     },
     "execution_count": 60,
     "metadata": {},
     "output_type": "execute_result"
    }
   ],
   "source": [
    "from sklearn.neighbors import KNeighborsClassifier\n",
    "reg = KNeighborsClassifier(n_neighbors = 3)\n",
    "reg.fit(X_train, y_train)"
   ]
  },
  {
   "cell_type": "code",
   "execution_count": 61,
   "metadata": {},
   "outputs": [
    {
     "data": {
      "text/plain": [
       "array([130, 140,  62, ..., 127,  77, 122])"
      ]
     },
     "execution_count": 61,
     "metadata": {},
     "output_type": "execute_result"
    }
   ],
   "source": [
    "reg.predict(X_test)"
   ]
  },
  {
   "cell_type": "code",
   "execution_count": 86,
   "metadata": {},
   "outputs": [
    {
     "ename": "AttributeError",
     "evalue": "'StandardScaler' object has no attribute 'to_numpy'",
     "output_type": "error",
     "traceback": [
      "\u001b[0;31m---------------------------------------------------------------------------\u001b[0m",
      "\u001b[0;31mAttributeError\u001b[0m                            Traceback (most recent call last)",
      "\u001b[0;32m<ipython-input-86-3c6e28425d39>\u001b[0m in \u001b[0;36m<module>\u001b[0;34m\u001b[0m\n\u001b[1;32m      1\u001b[0m \u001b[0;32mfrom\u001b[0m \u001b[0msklearn\u001b[0m\u001b[0;34m.\u001b[0m\u001b[0mpreprocessing\u001b[0m \u001b[0;32mimport\u001b[0m \u001b[0mStandardScaler\u001b[0m\u001b[0;34m\u001b[0m\u001b[0;34m\u001b[0m\u001b[0m\n\u001b[0;32m----> 2\u001b[0;31m \u001b[0mX_train\u001b[0m\u001b[0;34m.\u001b[0m\u001b[0mto_numpy\u001b[0m\u001b[0;34m(\u001b[0m\u001b[0;34m)\u001b[0m\u001b[0;34m.\u001b[0m\u001b[0mreshape\u001b[0m\u001b[0;34m(\u001b[0m\u001b[0;36m1\u001b[0m\u001b[0;34m,\u001b[0m \u001b[0;34m-\u001b[0m\u001b[0;36m1\u001b[0m\u001b[0;34m)\u001b[0m\u001b[0;34m\u001b[0m\u001b[0;34m\u001b[0m\u001b[0m\n\u001b[0m\u001b[1;32m      3\u001b[0m \u001b[0mX_test\u001b[0m\u001b[0;34m.\u001b[0m\u001b[0mto_numpy\u001b[0m\u001b[0;34m(\u001b[0m\u001b[0;34m)\u001b[0m\u001b[0;34m.\u001b[0m\u001b[0mreshape\u001b[0m\u001b[0;34m(\u001b[0m\u001b[0;36m1\u001b[0m\u001b[0;34m,\u001b[0m \u001b[0;34m-\u001b[0m\u001b[0;36m1\u001b[0m\u001b[0;34m)\u001b[0m\u001b[0;34m\u001b[0m\u001b[0;34m\u001b[0m\u001b[0m\n\u001b[1;32m      4\u001b[0m \u001b[0my_train\u001b[0m\u001b[0;34m.\u001b[0m\u001b[0mto_numpy\u001b[0m\u001b[0;34m(\u001b[0m\u001b[0;34m)\u001b[0m\u001b[0;34m.\u001b[0m\u001b[0mreshape\u001b[0m\u001b[0;34m(\u001b[0m\u001b[0;36m1\u001b[0m\u001b[0;34m,\u001b[0m \u001b[0;34m-\u001b[0m\u001b[0;36m1\u001b[0m\u001b[0;34m)\u001b[0m\u001b[0;34m\u001b[0m\u001b[0;34m\u001b[0m\u001b[0m\n\u001b[1;32m      5\u001b[0m \u001b[0my_test\u001b[0m\u001b[0;34m.\u001b[0m\u001b[0mto_numpy\u001b[0m\u001b[0;34m(\u001b[0m\u001b[0;34m)\u001b[0m\u001b[0;34m.\u001b[0m\u001b[0mreshape\u001b[0m\u001b[0;34m(\u001b[0m\u001b[0;36m1\u001b[0m\u001b[0;34m,\u001b[0m \u001b[0;34m-\u001b[0m\u001b[0;36m1\u001b[0m\u001b[0;34m)\u001b[0m\u001b[0;34m\u001b[0m\u001b[0;34m\u001b[0m\u001b[0m\n",
      "\u001b[0;31mAttributeError\u001b[0m: 'StandardScaler' object has no attribute 'to_numpy'"
     ]
    }
   ],
   "source": [
    "from sklearn.preprocessing import StandardScaler\n",
    "X_train.to_numpy().reshape(1, -1)\n",
    "X_test.to_numpy().reshape(1, -1)\n",
    "y_train.to_numpy().reshape(1, -1)\n",
    "y_test.to_numpy().reshape(1, -1)\n",
    "X_train = StandardScaler().fit(X_train)\n",
    "y_train = StandardScaler().fit(y_train)\n",
    "X_test = StandardScaler().transform(X_test)\n",
    "y_test = StandardScaler().transform(y_test)"
   ]
  },
  {
   "cell_type": "code",
   "execution_count": 12,
   "metadata": {},
   "outputs": [
    {
     "name": "stdout",
     "output_type": "stream",
     "text": [
      "[1] MAE = 18.03,  RMSE = 28.27,  score = 0.72\n",
      "[2] MAE = 16.85,  RMSE = 25.10,  score = 0.78\n",
      "[3] MAE = 16.19,  RMSE = 23.85,  score = 0.80\n",
      "[4] MAE = 15.80,  RMSE = 23.18,  score = 0.81\n",
      "[5] MAE = 15.54,  RMSE = 22.78,  score = 0.82\n",
      "[6] MAE = 15.37,  RMSE = 22.52,  score = 0.82\n",
      "[7] MAE = 15.24,  RMSE = 22.34,  score = 0.83\n",
      "[8] MAE = 15.15,  RMSE = 22.21,  score = 0.83\n",
      "[9] MAE = 15.06,  RMSE = 22.10,  score = 0.83\n",
      "[10] MAE = 15.00,  RMSE = 22.03,  score = 0.83\n",
      "[11] MAE = 14.96,  RMSE = 21.96,  score = 0.83\n",
      "[12] MAE = 14.91,  RMSE = 21.91,  score = 0.83\n",
      "[13] MAE = 14.88,  RMSE = 21.87,  score = 0.83\n",
      "[14] MAE = 14.85,  RMSE = 21.84,  score = 0.83\n",
      "[15] MAE = 14.82,  RMSE = 21.81,  score = 0.83\n",
      "[16] MAE = 14.78,  RMSE = 21.77,  score = 0.83\n",
      "[17] MAE = 14.76,  RMSE = 21.75,  score = 0.83\n",
      "[18] MAE = 14.74,  RMSE = 21.72,  score = 0.84\n",
      "[19] MAE = 14.72,  RMSE = 21.70,  score = 0.84\n",
      "[20] MAE = 14.71,  RMSE = 21.68,  score = 0.84\n"
     ]
    },
    {
     "data": {
      "text/plain": [
       "[<matplotlib.lines.Line2D at 0x7f68e5022190>]"
      ]
     },
     "execution_count": 12,
     "metadata": {},
     "output_type": "execute_result"
    },
    {
     "data": {
      "image/png": "[encoded data removed]",
      "text/plain": [
       "<Figure size 432x288 with 1 Axes>"
      ]
     },
     "metadata": {
      "needs_background": "light"
     },
     "output_type": "display_data"
    }
   ],
   "source": [
    "from sklearn.neighbors import KNeighborsRegressor\n",
    "from sklearn.metrics import mean_squared_error\n",
    "from sklearn.metrics import mean_absolute_error\n",
    "\n",
    "list_k = []\n",
    "list_score = []\n",
    "for k in range(1, 21):\n",
    "  # KNeighborsClassifier\n",
    "  knr = KNeighborsRegressor(n_neighbors=k)\n",
    "  knr.fit(X_train, y_train)\n",
    "\n",
    "  # 予測　\n",
    "  Y_pred = knr.predict(X_test)\n",
    "\n",
    "  #\n",
    "  # 評価\n",
    "  #\n",
    "  # 平均絶対誤差(MAE)\n",
    "  mae = mean_absolute_error(y_test, Y_pred)\n",
    "  # 平方根平均二乗誤差（RMSE）\n",
    "  rmse = np.sqrt(mean_squared_error(y_test, Y_pred))  \n",
    "  # スコア R^2\n",
    "  score = knr.score(X_test, y_test)\n",
    "\n",
    "  print(\"[%d] MAE = %.2f,  RMSE = %.2f,  score = %.2f\" % (k, mae, rmse, score))\n",
    "\n",
    "  list_k.append(k)\n",
    "  list_score.append(score)\n",
    "\n",
    "# プロット\n",
    "plt.ylim(0, 1.0)\n",
    "plt.xlabel(\"k\")\n",
    "plt.ylabel(\"score\")\n",
    "plt.plot(list_k, list_score)"
   ]
  },
  {
   "cell_type": "code",
   "execution_count": null,
   "metadata": {},
   "outputs": [],
   "source": []
  }
 ],
 "metadata": {
  "kernelspec": {
   "display_name": "Python 3",
   "language": "python",
   "name": "python3"
  },
  "language_info": {
   "codemirror_mode": {
    "name": "ipython",
    "version": 3
   },
   "file_extension": ".py",
   "mimetype": "text/x-python",
   "name": "python",
   "nbconvert_exporter": "python",
   "pygments_lexer": "ipython3",
   "version": "3.8.6"
  }
 },
 "nbformat": 4,
 "nbformat_minor": 4
}
