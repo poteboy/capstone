{
 "cells": [
  {
   "cell_type": "code",
   "execution_count": 1,
   "metadata": {},
   "outputs": [
    {
     "data": {
      "text/plain": [
       "Sex                666284\n",
       "BodyweightKg       666284\n",
       "Best3SquatKg       666284\n",
       "Best3DeadliftKg    666284\n",
       "Age                666284\n",
       "Equipment          666284\n",
       "Best3BenchKg       666284\n",
       "dtype: int64"
      ]
     },
     "execution_count": 1,
     "metadata": {},
     "output_type": "execute_result"
    }
   ],
   "source": [
    "import numpy as np\n",
    "import matplotlib.pyplot as plt\n",
    "from sklearn.model_selection import train_test_split\n",
    "import pandas\n",
    "from tensorflow.keras.models import Sequential\n",
    "import tensorflow as tf\n",
    "from tensorflow.keras.layers import Dense, Activation\n",
    "from tensorflow.keras import optimizers\n",
    "from keras.callbacks import EarlyStopping\n",
    "from keras.layers.normalization import BatchNormalization\n",
    "from sklearn.preprocessing import MinMaxScaler\n",
    "from tensorflow.keras.models import Sequential\n",
    "import tensorflow as tf\n",
    "from tensorflow.keras.layers import Dense\n",
    "from tensorflow.keras import optimizers\n",
    "from keras.callbacks import EarlyStopping\n",
    "from keras.layers.normalization import BatchNormalization\n",
    "from keras.layers import InputLayer\n",
    "import pickle\n",
    "csv = './openpowerlifting-2020-09-06.csv'\n",
    "df = pandas.read_csv(csv,index_col=0,low_memory=False)\n",
    "df['Sex'] = df['Sex'].map({'M': 1, 'F': 0, 'Mx': -1})\n",
    "df['Equipment'] = df['Equipment'].map({'Single-ply':0, 'Raw':1, 'Wraps':2, 'Unlimited':3, 'Multi-ply':4})\n",
    "data = df[['Sex','BodyweightKg', 'Best3SquatKg', 'Best3DeadliftKg','Age','Equipment', 'Best3BenchKg']].dropna(how='any')\n",
    "data = data.drop(data[data['Best3SquatKg'] <= 0].index)\n",
    "data = data.drop(data[data['Best3DeadliftKg'] <= 0].index)\n",
    "data = data.drop(data[data['Best3BenchKg'] <= 0].index)\n",
    "data = data.drop(data[data['Age'] < 13].index)\n",
    "data.count()"
   ]
  },
  {
   "cell_type": "code",
   "execution_count": 2,
   "metadata": {},
   "outputs": [
    {
     "data": {
      "text/html": [
       "<div>\n",
       "<style scoped>\n",
       "    .dataframe tbody tr th:only-of-type {\n",
       "        vertical-align: middle;\n",
       "    }\n",
       "\n",
       "    .dataframe tbody tr th {\n",
       "        vertical-align: top;\n",
       "    }\n",
       "\n",
       "    .dataframe thead th {\n",
       "        text-align: right;\n",
       "    }\n",
       "</style>\n",
       "<table border=\"1\" class=\"dataframe\">\n",
       "  <thead>\n",
       "    <tr style=\"text-align: right;\">\n",
       "      <th></th>\n",
       "      <th>Sex</th>\n",
       "      <th>BodyweightKg</th>\n",
       "      <th>Best3SquatKg</th>\n",
       "      <th>Best3DeadliftKg</th>\n",
       "      <th>Age</th>\n",
       "      <th>Equipment</th>\n",
       "      <th>Best3BenchKg</th>\n",
       "    </tr>\n",
       "  </thead>\n",
       "  <tbody>\n",
       "    <tr>\n",
       "      <th>count</th>\n",
       "      <td>666284.000000</td>\n",
       "      <td>666284.000000</td>\n",
       "      <td>666284.000000</td>\n",
       "      <td>666284.000000</td>\n",
       "      <td>666284.000000</td>\n",
       "      <td>666284.000000</td>\n",
       "      <td>666284.000000</td>\n",
       "    </tr>\n",
       "    <tr>\n",
       "      <th>mean</th>\n",
       "      <td>0.714060</td>\n",
       "      <td>83.950628</td>\n",
       "      <td>186.710463</td>\n",
       "      <td>202.396899</td>\n",
       "      <td>29.377441</td>\n",
       "      <td>0.916990</td>\n",
       "      <td>120.931825</td>\n",
       "    </tr>\n",
       "    <tr>\n",
       "      <th>std</th>\n",
       "      <td>0.451884</td>\n",
       "      <td>22.394697</td>\n",
       "      <td>71.150814</td>\n",
       "      <td>61.759860</td>\n",
       "      <td>12.202794</td>\n",
       "      <td>0.931394</td>\n",
       "      <td>51.557245</td>\n",
       "    </tr>\n",
       "    <tr>\n",
       "      <th>min</th>\n",
       "      <td>-1.000000</td>\n",
       "      <td>24.950000</td>\n",
       "      <td>10.000000</td>\n",
       "      <td>7.500000</td>\n",
       "      <td>13.000000</td>\n",
       "      <td>0.000000</td>\n",
       "      <td>6.800000</td>\n",
       "    </tr>\n",
       "    <tr>\n",
       "      <th>25%</th>\n",
       "      <td>0.000000</td>\n",
       "      <td>67.000000</td>\n",
       "      <td>130.000000</td>\n",
       "      <td>150.000000</td>\n",
       "      <td>20.500000</td>\n",
       "      <td>0.000000</td>\n",
       "      <td>77.500000</td>\n",
       "    </tr>\n",
       "    <tr>\n",
       "      <th>50%</th>\n",
       "      <td>1.000000</td>\n",
       "      <td>81.740000</td>\n",
       "      <td>182.500000</td>\n",
       "      <td>205.000000</td>\n",
       "      <td>26.000000</td>\n",
       "      <td>1.000000</td>\n",
       "      <td>120.000000</td>\n",
       "    </tr>\n",
       "    <tr>\n",
       "      <th>75%</th>\n",
       "      <td>1.000000</td>\n",
       "      <td>98.200000</td>\n",
       "      <td>232.500000</td>\n",
       "      <td>250.000000</td>\n",
       "      <td>36.000000</td>\n",
       "      <td>1.000000</td>\n",
       "      <td>155.000000</td>\n",
       "    </tr>\n",
       "    <tr>\n",
       "      <th>max</th>\n",
       "      <td>1.000000</td>\n",
       "      <td>250.050000</td>\n",
       "      <td>577.500000</td>\n",
       "      <td>457.500000</td>\n",
       "      <td>95.500000</td>\n",
       "      <td>4.000000</td>\n",
       "      <td>460.000000</td>\n",
       "    </tr>\n",
       "  </tbody>\n",
       "</table>\n",
       "</div>"
      ],
      "text/plain": [
       "                 Sex   BodyweightKg   Best3SquatKg  Best3DeadliftKg  \\\n",
       "count  666284.000000  666284.000000  666284.000000    666284.000000   \n",
       "mean        0.714060      83.950628     186.710463       202.396899   \n",
       "std         0.451884      22.394697      71.150814        61.759860   \n",
       "min        -1.000000      24.950000      10.000000         7.500000   \n",
       "25%         0.000000      67.000000     130.000000       150.000000   \n",
       "50%         1.000000      81.740000     182.500000       205.000000   \n",
       "75%         1.000000      98.200000     232.500000       250.000000   \n",
       "max         1.000000     250.050000     577.500000       457.500000   \n",
       "\n",
       "                 Age      Equipment   Best3BenchKg  \n",
       "count  666284.000000  666284.000000  666284.000000  \n",
       "mean       29.377441       0.916990     120.931825  \n",
       "std        12.202794       0.931394      51.557245  \n",
       "min        13.000000       0.000000       6.800000  \n",
       "25%        20.500000       0.000000      77.500000  \n",
       "50%        26.000000       1.000000     120.000000  \n",
       "75%        36.000000       1.000000     155.000000  \n",
       "max        95.500000       4.000000     460.000000  "
      ]
     },
     "execution_count": 2,
     "metadata": {},
     "output_type": "execute_result"
    }
   ],
   "source": [
    "data.describe()"
   ]
  },
  {
   "cell_type": "code",
   "execution_count": 3,
   "metadata": {},
   "outputs": [
    {
     "name": "stdout",
     "output_type": "stream",
     "text": [
      "-39 271\n"
     ]
    }
   ],
   "source": [
    "q1 = data['Best3BenchKg'].describe()['25%']\n",
    "q3 = data['Best3BenchKg'].describe()['75%']\n",
    "iqr = q3 - q1\n",
    "outlier_min = q1 - (iqr) * 1.5\n",
    "outlier_max = q3 + (iqr) * 1.5\n",
    "print(round(outlier_min), round(outlier_max))\n",
    "# -39 271"
   ]
  },
  {
   "cell_type": "code",
   "execution_count": 4,
   "metadata": {},
   "outputs": [
    {
     "name": "stdout",
     "output_type": "stream",
     "text": [
      "0 400\n"
     ]
    }
   ],
   "source": [
    "q1 = data['Best3DeadliftKg'].describe()['25%']\n",
    "q3 = data['Best3DeadliftKg'].describe()['75%']\n",
    "iqr = q3 - q1\n",
    "outlier_min = q1 - (iqr) * 1.5\n",
    "outlier_max = q3 + (iqr) * 1.5\n",
    "print(round(outlier_min), round(outlier_max))\n",
    "# 0 400"
   ]
  },
  {
   "cell_type": "code",
   "execution_count": 6,
   "metadata": {},
   "outputs": [
    {
     "name": "stdout",
     "output_type": "stream",
     "text": [
      "-24 386\n"
     ]
    }
   ],
   "source": [
    "q1 = data['Best3SquatKg'].describe()['25%']\n",
    "q3 = data['Best3SquatKg'].describe()['75%']\n",
    "iqr = q3 - q1\n",
    "outlier_min = q1 - (iqr) * 1.5\n",
    "outlier_max = q3 + (iqr) * 1.5\n",
    "print(round(outlier_min), round(outlier_max))\n",
    "# -24 386"
   ]
  },
  {
   "cell_type": "code",
   "execution_count": 7,
   "metadata": {},
   "outputs": [],
   "source": [
    "data = data.drop(data[data['Best3BenchKg'] >= 271].index)\n",
    "data = data.drop(data[data['Best3DeadliftKg'] >= 400].index)\n",
    "data = data.drop(data[data['Best3SquatKg'] >= 383].index)"
   ]
  },
  {
   "cell_type": "code",
   "execution_count": 8,
   "metadata": {},
   "outputs": [
    {
     "data": {
      "text/plain": [
       "Sex                645974\n",
       "BodyweightKg       645974\n",
       "Best3SquatKg       645974\n",
       "Best3DeadliftKg    645974\n",
       "Age                645974\n",
       "Equipment          645974\n",
       "Best3BenchKg       645974\n",
       "dtype: int64"
      ]
     },
     "execution_count": 8,
     "metadata": {},
     "output_type": "execute_result"
    }
   ],
   "source": [
    "data.count()"
   ]
  },
  {
   "cell_type": "code",
   "execution_count": 9,
   "metadata": {},
   "outputs": [
    {
     "data": {
      "text/html": [
       "<div>\n",
       "<style scoped>\n",
       "    .dataframe tbody tr th:only-of-type {\n",
       "        vertical-align: middle;\n",
       "    }\n",
       "\n",
       "    .dataframe tbody tr th {\n",
       "        vertical-align: top;\n",
       "    }\n",
       "\n",
       "    .dataframe thead th {\n",
       "        text-align: right;\n",
       "    }\n",
       "</style>\n",
       "<table border=\"1\" class=\"dataframe\">\n",
       "  <thead>\n",
       "    <tr style=\"text-align: right;\">\n",
       "      <th></th>\n",
       "      <th>Sex</th>\n",
       "      <th>BodyweightKg</th>\n",
       "      <th>Best3SquatKg</th>\n",
       "      <th>Best3DeadliftKg</th>\n",
       "      <th>Age</th>\n",
       "      <th>Equipment</th>\n",
       "      <th>Best3BenchKg</th>\n",
       "    </tr>\n",
       "  </thead>\n",
       "  <tbody>\n",
       "    <tr>\n",
       "      <th>count</th>\n",
       "      <td>645974.000000</td>\n",
       "      <td>645974.000000</td>\n",
       "      <td>645974.000000</td>\n",
       "      <td>645974.000000</td>\n",
       "      <td>645974.000000</td>\n",
       "      <td>645974.000000</td>\n",
       "      <td>645974.000000</td>\n",
       "    </tr>\n",
       "    <tr>\n",
       "      <th>mean</th>\n",
       "      <td>0.705089</td>\n",
       "      <td>82.935674</td>\n",
       "      <td>181.974402</td>\n",
       "      <td>199.334943</td>\n",
       "      <td>29.361891</td>\n",
       "      <td>0.900237</td>\n",
       "      <td>117.516064</td>\n",
       "    </tr>\n",
       "    <tr>\n",
       "      <th>std</th>\n",
       "      <td>0.456027</td>\n",
       "      <td>21.620201</td>\n",
       "      <td>65.870596</td>\n",
       "      <td>59.644665</td>\n",
       "      <td>12.300921</td>\n",
       "      <td>0.890991</td>\n",
       "      <td>47.675907</td>\n",
       "    </tr>\n",
       "    <tr>\n",
       "      <th>min</th>\n",
       "      <td>-1.000000</td>\n",
       "      <td>24.950000</td>\n",
       "      <td>10.000000</td>\n",
       "      <td>7.500000</td>\n",
       "      <td>13.000000</td>\n",
       "      <td>0.000000</td>\n",
       "      <td>6.800000</td>\n",
       "    </tr>\n",
       "    <tr>\n",
       "      <th>25%</th>\n",
       "      <td>0.000000</td>\n",
       "      <td>66.700000</td>\n",
       "      <td>130.000000</td>\n",
       "      <td>150.000000</td>\n",
       "      <td>20.000000</td>\n",
       "      <td>0.000000</td>\n",
       "      <td>77.500000</td>\n",
       "    </tr>\n",
       "    <tr>\n",
       "      <th>50%</th>\n",
       "      <td>1.000000</td>\n",
       "      <td>81.370000</td>\n",
       "      <td>180.000000</td>\n",
       "      <td>200.000000</td>\n",
       "      <td>25.500000</td>\n",
       "      <td>1.000000</td>\n",
       "      <td>117.500000</td>\n",
       "    </tr>\n",
       "    <tr>\n",
       "      <th>75%</th>\n",
       "      <td>1.000000</td>\n",
       "      <td>96.900000</td>\n",
       "      <td>227.500000</td>\n",
       "      <td>245.000000</td>\n",
       "      <td>36.000000</td>\n",
       "      <td>1.000000</td>\n",
       "      <td>150.000000</td>\n",
       "    </tr>\n",
       "    <tr>\n",
       "      <th>max</th>\n",
       "      <td>1.000000</td>\n",
       "      <td>242.000000</td>\n",
       "      <td>382.500000</td>\n",
       "      <td>399.160000</td>\n",
       "      <td>95.500000</td>\n",
       "      <td>4.000000</td>\n",
       "      <td>270.500000</td>\n",
       "    </tr>\n",
       "  </tbody>\n",
       "</table>\n",
       "</div>"
      ],
      "text/plain": [
       "                 Sex   BodyweightKg   Best3SquatKg  Best3DeadliftKg  \\\n",
       "count  645974.000000  645974.000000  645974.000000    645974.000000   \n",
       "mean        0.705089      82.935674     181.974402       199.334943   \n",
       "std         0.456027      21.620201      65.870596        59.644665   \n",
       "min        -1.000000      24.950000      10.000000         7.500000   \n",
       "25%         0.000000      66.700000     130.000000       150.000000   \n",
       "50%         1.000000      81.370000     180.000000       200.000000   \n",
       "75%         1.000000      96.900000     227.500000       245.000000   \n",
       "max         1.000000     242.000000     382.500000       399.160000   \n",
       "\n",
       "                 Age      Equipment   Best3BenchKg  \n",
       "count  645974.000000  645974.000000  645974.000000  \n",
       "mean       29.361891       0.900237     117.516064  \n",
       "std        12.300921       0.890991      47.675907  \n",
       "min        13.000000       0.000000       6.800000  \n",
       "25%        20.000000       0.000000      77.500000  \n",
       "50%        25.500000       1.000000     117.500000  \n",
       "75%        36.000000       1.000000     150.000000  \n",
       "max        95.500000       4.000000     270.500000  "
      ]
     },
     "execution_count": 9,
     "metadata": {},
     "output_type": "execute_result"
    }
   ],
   "source": [
    "data.describe()"
   ]
  },
  {
   "cell_type": "code",
   "execution_count": 11,
   "metadata": {},
   "outputs": [
    {
     "data": {
      "text/html": [
       "<style  type=\"text/css\" >\n",
       "#T_52b4ae48_58ad_11eb_a4cc_0242c0a8f002row0_col0,#T_52b4ae48_58ad_11eb_a4cc_0242c0a8f002row1_col1,#T_52b4ae48_58ad_11eb_a4cc_0242c0a8f002row2_col2,#T_52b4ae48_58ad_11eb_a4cc_0242c0a8f002row3_col3,#T_52b4ae48_58ad_11eb_a4cc_0242c0a8f002row4_col4,#T_52b4ae48_58ad_11eb_a4cc_0242c0a8f002row5_col5,#T_52b4ae48_58ad_11eb_a4cc_0242c0a8f002row6_col6{\n",
       "            background-color:  #ff0000;\n",
       "            color:  #f1f1f1;\n",
       "        }#T_52b4ae48_58ad_11eb_a4cc_0242c0a8f002row0_col1{\n",
       "            background-color:  #ff9f00;\n",
       "            color:  #000000;\n",
       "        }#T_52b4ae48_58ad_11eb_a4cc_0242c0a8f002row0_col2,#T_52b4ae48_58ad_11eb_a4cc_0242c0a8f002row1_col2,#T_52b4ae48_58ad_11eb_a4cc_0242c0a8f002row2_col0{\n",
       "            background-color:  #ff6400;\n",
       "            color:  #000000;\n",
       "        }#T_52b4ae48_58ad_11eb_a4cc_0242c0a8f002row0_col3,#T_52b4ae48_58ad_11eb_a4cc_0242c0a8f002row0_col6{\n",
       "            background-color:  #ff5400;\n",
       "            color:  #000000;\n",
       "        }#T_52b4ae48_58ad_11eb_a4cc_0242c0a8f002row0_col4,#T_52b4ae48_58ad_11eb_a4cc_0242c0a8f002row2_col4,#T_52b4ae48_58ad_11eb_a4cc_0242c0a8f002row2_col5,#T_52b4ae48_58ad_11eb_a4cc_0242c0a8f002row4_col0,#T_52b4ae48_58ad_11eb_a4cc_0242c0a8f002row4_col2,#T_52b4ae48_58ad_11eb_a4cc_0242c0a8f002row4_col3,#T_52b4ae48_58ad_11eb_a4cc_0242c0a8f002row5_col1,#T_52b4ae48_58ad_11eb_a4cc_0242c0a8f002row5_col6{\n",
       "            background-color:  #ffff00;\n",
       "            color:  #000000;\n",
       "        }#T_52b4ae48_58ad_11eb_a4cc_0242c0a8f002row0_col5{\n",
       "            background-color:  #fffd00;\n",
       "            color:  #000000;\n",
       "        }#T_52b4ae48_58ad_11eb_a4cc_0242c0a8f002row1_col0{\n",
       "            background-color:  #ff8c00;\n",
       "            color:  #000000;\n",
       "        }#T_52b4ae48_58ad_11eb_a4cc_0242c0a8f002row1_col3{\n",
       "            background-color:  #ff6500;\n",
       "            color:  #000000;\n",
       "        }#T_52b4ae48_58ad_11eb_a4cc_0242c0a8f002row1_col4{\n",
       "            background-color:  #ffdd00;\n",
       "            color:  #000000;\n",
       "        }#T_52b4ae48_58ad_11eb_a4cc_0242c0a8f002row1_col5{\n",
       "            background-color:  #ffe200;\n",
       "            color:  #000000;\n",
       "        }#T_52b4ae48_58ad_11eb_a4cc_0242c0a8f002row1_col6{\n",
       "            background-color:  #ff5f00;\n",
       "            color:  #000000;\n",
       "        }#T_52b4ae48_58ad_11eb_a4cc_0242c0a8f002row2_col1{\n",
       "            background-color:  #ff7200;\n",
       "            color:  #000000;\n",
       "        }#T_52b4ae48_58ad_11eb_a4cc_0242c0a8f002row2_col3,#T_52b4ae48_58ad_11eb_a4cc_0242c0a8f002row6_col2{\n",
       "            background-color:  #ff1900;\n",
       "            color:  #f1f1f1;\n",
       "        }#T_52b4ae48_58ad_11eb_a4cc_0242c0a8f002row2_col6{\n",
       "            background-color:  #ff1a00;\n",
       "            color:  #f1f1f1;\n",
       "        }#T_52b4ae48_58ad_11eb_a4cc_0242c0a8f002row3_col0,#T_52b4ae48_58ad_11eb_a4cc_0242c0a8f002row6_col0{\n",
       "            background-color:  #ff5200;\n",
       "            color:  #000000;\n",
       "        }#T_52b4ae48_58ad_11eb_a4cc_0242c0a8f002row3_col1{\n",
       "            background-color:  #ff6f00;\n",
       "            color:  #000000;\n",
       "        }#T_52b4ae48_58ad_11eb_a4cc_0242c0a8f002row3_col2{\n",
       "            background-color:  #ff1800;\n",
       "            color:  #f1f1f1;\n",
       "        }#T_52b4ae48_58ad_11eb_a4cc_0242c0a8f002row3_col4,#T_52b4ae48_58ad_11eb_a4cc_0242c0a8f002row3_col5{\n",
       "            background-color:  #fff800;\n",
       "            color:  #000000;\n",
       "        }#T_52b4ae48_58ad_11eb_a4cc_0242c0a8f002row3_col6,#T_52b4ae48_58ad_11eb_a4cc_0242c0a8f002row6_col3{\n",
       "            background-color:  #ff2100;\n",
       "            color:  #f1f1f1;\n",
       "        }#T_52b4ae48_58ad_11eb_a4cc_0242c0a8f002row4_col1{\n",
       "            background-color:  #fffb00;\n",
       "            color:  #000000;\n",
       "        }#T_52b4ae48_58ad_11eb_a4cc_0242c0a8f002row4_col5{\n",
       "            background-color:  #ffe500;\n",
       "            color:  #000000;\n",
       "        }#T_52b4ae48_58ad_11eb_a4cc_0242c0a8f002row4_col6{\n",
       "            background-color:  #fff300;\n",
       "            color:  #000000;\n",
       "        }#T_52b4ae48_58ad_11eb_a4cc_0242c0a8f002row5_col0,#T_52b4ae48_58ad_11eb_a4cc_0242c0a8f002row6_col5{\n",
       "            background-color:  #fffc00;\n",
       "            color:  #000000;\n",
       "        }#T_52b4ae48_58ad_11eb_a4cc_0242c0a8f002row5_col2,#T_52b4ae48_58ad_11eb_a4cc_0242c0a8f002row5_col3{\n",
       "            background-color:  #fffe00;\n",
       "            color:  #000000;\n",
       "        }#T_52b4ae48_58ad_11eb_a4cc_0242c0a8f002row5_col4{\n",
       "            background-color:  #ffe400;\n",
       "            color:  #000000;\n",
       "        }#T_52b4ae48_58ad_11eb_a4cc_0242c0a8f002row6_col1{\n",
       "            background-color:  #ff6a00;\n",
       "            color:  #000000;\n",
       "        }#T_52b4ae48_58ad_11eb_a4cc_0242c0a8f002row6_col4{\n",
       "            background-color:  #ffee00;\n",
       "            color:  #000000;\n",
       "        }</style><table id=\"T_52b4ae48_58ad_11eb_a4cc_0242c0a8f002\" ><thead>    <tr>        <th class=\"blank level0\" ></th>        <th class=\"col_heading level0 col0\" >Sex</th>        <th class=\"col_heading level0 col1\" >BodyweightKg</th>        <th class=\"col_heading level0 col2\" >Best3SquatKg</th>        <th class=\"col_heading level0 col3\" >Best3DeadliftKg</th>        <th class=\"col_heading level0 col4\" >Age</th>        <th class=\"col_heading level0 col5\" >Equipment</th>        <th class=\"col_heading level0 col6\" >Best3BenchKg</th>    </tr></thead><tbody>\n",
       "                <tr>\n",
       "                        <th id=\"T_52b4ae48_58ad_11eb_a4cc_0242c0a8f002level0_row0\" class=\"row_heading level0 row0\" >Sex</th>\n",
       "                        <td id=\"T_52b4ae48_58ad_11eb_a4cc_0242c0a8f002row0_col0\" class=\"data row0 col0\" >1.000000</td>\n",
       "                        <td id=\"T_52b4ae48_58ad_11eb_a4cc_0242c0a8f002row0_col1\" class=\"data row0 col1\" >0.455411</td>\n",
       "                        <td id=\"T_52b4ae48_58ad_11eb_a4cc_0242c0a8f002row0_col2\" class=\"data row0 col2\" >0.608640</td>\n",
       "                        <td id=\"T_52b4ae48_58ad_11eb_a4cc_0242c0a8f002row0_col3\" class=\"data row0 col3\" >0.681714</td>\n",
       "                        <td id=\"T_52b4ae48_58ad_11eb_a4cc_0242c0a8f002row0_col4\" class=\"data row0 col4\" >0.008020</td>\n",
       "                        <td id=\"T_52b4ae48_58ad_11eb_a4cc_0242c0a8f002row0_col5\" class=\"data row0 col5\" >0.020158</td>\n",
       "                        <td id=\"T_52b4ae48_58ad_11eb_a4cc_0242c0a8f002row0_col6\" class=\"data row0 col6\" >0.679976</td>\n",
       "            </tr>\n",
       "            <tr>\n",
       "                        <th id=\"T_52b4ae48_58ad_11eb_a4cc_0242c0a8f002level0_row1\" class=\"row_heading level0 row1\" >BodyweightKg</th>\n",
       "                        <td id=\"T_52b4ae48_58ad_11eb_a4cc_0242c0a8f002row1_col0\" class=\"data row1 col0\" >0.455411</td>\n",
       "                        <td id=\"T_52b4ae48_58ad_11eb_a4cc_0242c0a8f002row1_col1\" class=\"data row1 col1\" >1.000000</td>\n",
       "                        <td id=\"T_52b4ae48_58ad_11eb_a4cc_0242c0a8f002row1_col2\" class=\"data row1 col2\" >0.607335</td>\n",
       "                        <td id=\"T_52b4ae48_58ad_11eb_a4cc_0242c0a8f002row1_col3\" class=\"data row1 col3\" >0.618228</td>\n",
       "                        <td id=\"T_52b4ae48_58ad_11eb_a4cc_0242c0a8f002row1_col4\" class=\"data row1 col4\" >0.140603</td>\n",
       "                        <td id=\"T_52b4ae48_58ad_11eb_a4cc_0242c0a8f002row1_col5\" class=\"data row1 col5\" >0.125118</td>\n",
       "                        <td id=\"T_52b4ae48_58ad_11eb_a4cc_0242c0a8f002row1_col6\" class=\"data row1 col6\" >0.635008</td>\n",
       "            </tr>\n",
       "            <tr>\n",
       "                        <th id=\"T_52b4ae48_58ad_11eb_a4cc_0242c0a8f002level0_row2\" class=\"row_heading level0 row2\" >Best3SquatKg</th>\n",
       "                        <td id=\"T_52b4ae48_58ad_11eb_a4cc_0242c0a8f002row2_col0\" class=\"data row2 col0\" >0.608640</td>\n",
       "                        <td id=\"T_52b4ae48_58ad_11eb_a4cc_0242c0a8f002row2_col1\" class=\"data row2 col1\" >0.607335</td>\n",
       "                        <td id=\"T_52b4ae48_58ad_11eb_a4cc_0242c0a8f002row2_col2\" class=\"data row2 col2\" >1.000000</td>\n",
       "                        <td id=\"T_52b4ae48_58ad_11eb_a4cc_0242c0a8f002row2_col3\" class=\"data row2 col3\" >0.905023</td>\n",
       "                        <td id=\"T_52b4ae48_58ad_11eb_a4cc_0242c0a8f002row2_col4\" class=\"data row2 col4\" >0.004608</td>\n",
       "                        <td id=\"T_52b4ae48_58ad_11eb_a4cc_0242c0a8f002row2_col5\" class=\"data row2 col5\" >0.011185</td>\n",
       "                        <td id=\"T_52b4ae48_58ad_11eb_a4cc_0242c0a8f002row2_col6\" class=\"data row2 col6\" >0.899327</td>\n",
       "            </tr>\n",
       "            <tr>\n",
       "                        <th id=\"T_52b4ae48_58ad_11eb_a4cc_0242c0a8f002level0_row3\" class=\"row_heading level0 row3\" >Best3DeadliftKg</th>\n",
       "                        <td id=\"T_52b4ae48_58ad_11eb_a4cc_0242c0a8f002row3_col0\" class=\"data row3 col0\" >0.681714</td>\n",
       "                        <td id=\"T_52b4ae48_58ad_11eb_a4cc_0242c0a8f002row3_col1\" class=\"data row3 col1\" >0.618228</td>\n",
       "                        <td id=\"T_52b4ae48_58ad_11eb_a4cc_0242c0a8f002row3_col2\" class=\"data row3 col2\" >0.905023</td>\n",
       "                        <td id=\"T_52b4ae48_58ad_11eb_a4cc_0242c0a8f002row3_col3\" class=\"data row3 col3\" >1.000000</td>\n",
       "                        <td id=\"T_52b4ae48_58ad_11eb_a4cc_0242c0a8f002row3_col4\" class=\"data row3 col4\" >0.035288</td>\n",
       "                        <td id=\"T_52b4ae48_58ad_11eb_a4cc_0242c0a8f002row3_col5\" class=\"data row3 col5\" >0.040324</td>\n",
       "                        <td id=\"T_52b4ae48_58ad_11eb_a4cc_0242c0a8f002row3_col6\" class=\"data row3 col6\" >0.872994</td>\n",
       "            </tr>\n",
       "            <tr>\n",
       "                        <th id=\"T_52b4ae48_58ad_11eb_a4cc_0242c0a8f002level0_row4\" class=\"row_heading level0 row4\" >Age</th>\n",
       "                        <td id=\"T_52b4ae48_58ad_11eb_a4cc_0242c0a8f002row4_col0\" class=\"data row4 col0\" >0.008020</td>\n",
       "                        <td id=\"T_52b4ae48_58ad_11eb_a4cc_0242c0a8f002row4_col1\" class=\"data row4 col1\" >0.140603</td>\n",
       "                        <td id=\"T_52b4ae48_58ad_11eb_a4cc_0242c0a8f002row4_col2\" class=\"data row4 col2\" >0.004608</td>\n",
       "                        <td id=\"T_52b4ae48_58ad_11eb_a4cc_0242c0a8f002row4_col3\" class=\"data row4 col3\" >0.035288</td>\n",
       "                        <td id=\"T_52b4ae48_58ad_11eb_a4cc_0242c0a8f002row4_col4\" class=\"data row4 col4\" >1.000000</td>\n",
       "                        <td id=\"T_52b4ae48_58ad_11eb_a4cc_0242c0a8f002row4_col5\" class=\"data row4 col5\" >0.112809</td>\n",
       "                        <td id=\"T_52b4ae48_58ad_11eb_a4cc_0242c0a8f002row4_col6\" class=\"data row4 col6\" >0.074114</td>\n",
       "            </tr>\n",
       "            <tr>\n",
       "                        <th id=\"T_52b4ae48_58ad_11eb_a4cc_0242c0a8f002level0_row5\" class=\"row_heading level0 row5\" >Equipment</th>\n",
       "                        <td id=\"T_52b4ae48_58ad_11eb_a4cc_0242c0a8f002row5_col0\" class=\"data row5 col0\" >0.020158</td>\n",
       "                        <td id=\"T_52b4ae48_58ad_11eb_a4cc_0242c0a8f002row5_col1\" class=\"data row5 col1\" >0.125118</td>\n",
       "                        <td id=\"T_52b4ae48_58ad_11eb_a4cc_0242c0a8f002row5_col2\" class=\"data row5 col2\" >0.011185</td>\n",
       "                        <td id=\"T_52b4ae48_58ad_11eb_a4cc_0242c0a8f002row5_col3\" class=\"data row5 col3\" >0.040324</td>\n",
       "                        <td id=\"T_52b4ae48_58ad_11eb_a4cc_0242c0a8f002row5_col4\" class=\"data row5 col4\" >0.112809</td>\n",
       "                        <td id=\"T_52b4ae48_58ad_11eb_a4cc_0242c0a8f002row5_col5\" class=\"data row5 col5\" >1.000000</td>\n",
       "                        <td id=\"T_52b4ae48_58ad_11eb_a4cc_0242c0a8f002row5_col6\" class=\"data row5 col6\" >0.025206</td>\n",
       "            </tr>\n",
       "            <tr>\n",
       "                        <th id=\"T_52b4ae48_58ad_11eb_a4cc_0242c0a8f002level0_row6\" class=\"row_heading level0 row6\" >Best3BenchKg</th>\n",
       "                        <td id=\"T_52b4ae48_58ad_11eb_a4cc_0242c0a8f002row6_col0\" class=\"data row6 col0\" >0.679976</td>\n",
       "                        <td id=\"T_52b4ae48_58ad_11eb_a4cc_0242c0a8f002row6_col1\" class=\"data row6 col1\" >0.635008</td>\n",
       "                        <td id=\"T_52b4ae48_58ad_11eb_a4cc_0242c0a8f002row6_col2\" class=\"data row6 col2\" >0.899327</td>\n",
       "                        <td id=\"T_52b4ae48_58ad_11eb_a4cc_0242c0a8f002row6_col3\" class=\"data row6 col3\" >0.872994</td>\n",
       "                        <td id=\"T_52b4ae48_58ad_11eb_a4cc_0242c0a8f002row6_col4\" class=\"data row6 col4\" >0.074114</td>\n",
       "                        <td id=\"T_52b4ae48_58ad_11eb_a4cc_0242c0a8f002row6_col5\" class=\"data row6 col5\" >0.025206</td>\n",
       "                        <td id=\"T_52b4ae48_58ad_11eb_a4cc_0242c0a8f002row6_col6\" class=\"data row6 col6\" >1.000000</td>\n",
       "            </tr>\n",
       "    </tbody></table>"
      ],
      "text/plain": [
       "<pandas.io.formats.style.Styler at 0x7f287c3cee50>"
      ]
     },
     "execution_count": 11,
     "metadata": {},
     "output_type": "execute_result"
    }
   ],
   "source": [
    "data.corr().style.background_gradient(cmap=\"autumn_r\")"
   ]
  },
  {
   "cell_type": "code",
   "execution_count": 13,
   "metadata": {},
   "outputs": [
    {
     "data": {
      "text/plain": [
       "array([[1.        , 0.26514628, 0.46630872, ..., 0.23636364, 0.5       ,\n",
       "        0.39563898],\n",
       "       [1.        , 0.3918452 , 0.74638926, ..., 0.13333333, 0.5       ,\n",
       "        0.59343951],\n",
       "       [1.        , 0.3918452 , 0.58201342, ..., 0.30909091, 0.5       ,\n",
       "        0.61926432],\n",
       "       ...,\n",
       "       [1.        , 0.31167934, 0.67114094, ..., 0.18787879, 0.25      ,\n",
       "        0.65680698],\n",
       "       [1.        , 0.31352223, 0.4295302 , ..., 0.06666667, 0.25      ,\n",
       "        0.46719757],\n",
       "       [1.        , 0.26053905, 0.4966443 , ..., 0.06666667, 0.25      ,\n",
       "        0.40083428]])"
      ]
     },
     "execution_count": 13,
     "metadata": {},
     "output_type": "execute_result"
    }
   ],
   "source": [
    "sc = MinMaxScaler()\n",
    "data_std = sc.fit_transform(data)\n",
    "data_std"
   ]
  },
  {
   "cell_type": "code",
   "execution_count": 14,
   "metadata": {},
   "outputs": [],
   "source": [
    "X_train, X_test, Y_train, Y_test = train_test_split(data_std[:,:-1], data_std[:,-1], test_size=0.2)\n",
    "X_train, X_validation, Y_train, Y_validation = train_test_split(X_train, Y_train, test_size=0.2)"
   ]
  },
  {
   "cell_type": "code",
   "execution_count": 22,
   "metadata": {},
   "outputs": [],
   "source": [
    "def r_square(y_true, y_pred):\n",
    "    from keras import backend as K\n",
    "    SS_res =  K.sum(K.square(y_true - y_pred)) \n",
    "    SS_tot = K.sum(K.square(y_true - K.mean(y_true))) \n",
    "    return (1 - SS_res/(SS_tot + K.epsilon()))\n",
    "def rmse(y_true, y_pred):\n",
    "    from keras import backend as K\n",
    "    return K.sqrt(K.mean(K.square(y_pred - y_true), axis=-1)) "
   ]
  },
  {
   "cell_type": "code",
   "execution_count": 23,
   "metadata": {},
   "outputs": [
    {
     "name": "stdout",
     "output_type": "stream",
     "text": [
      "Epoch 1/20\n",
      "6460/6460 [==============================] - 10s 2ms/step - loss: 0.0097 - mae: 0.0675 - rmse: 0.0675 - r_square: 0.6994 - val_loss: 0.0049 - val_mae: 0.0512 - val_rmse: 0.0512 - val_r_square: 0.8474\n",
      "Epoch 2/20\n",
      "6460/6460 [==============================] - 10s 2ms/step - loss: 0.0048 - mae: 0.0509 - rmse: 0.0509 - r_square: 0.8473 - val_loss: 0.0049 - val_mae: 0.0506 - val_rmse: 0.0506 - val_r_square: 0.8479\n",
      "Epoch 3/20\n",
      "6460/6460 [==============================] - 8s 1ms/step - loss: 0.0049 - mae: 0.0511 - rmse: 0.0511 - r_square: 0.8475 - val_loss: 0.0048 - val_mae: 0.0506 - val_rmse: 0.0506 - val_r_square: 0.8487\n",
      "Epoch 4/20\n",
      "6460/6460 [==============================] - 9s 1ms/step - loss: 0.0049 - mae: 0.0510 - rmse: 0.0510 - r_square: 0.8463 - val_loss: 0.0048 - val_mae: 0.0506 - val_rmse: 0.0506 - val_r_square: 0.8486\n",
      "Epoch 5/20\n",
      "6460/6460 [==============================] - 9s 1ms/step - loss: 0.0048 - mae: 0.0509 - rmse: 0.0509 - r_square: 0.8468 - val_loss: 0.0049 - val_mae: 0.0517 - val_rmse: 0.0517 - val_r_square: 0.8458\n",
      "Epoch 6/20\n",
      "6460/6460 [==============================] - 9s 1ms/step - loss: 0.0049 - mae: 0.0510 - rmse: 0.0510 - r_square: 0.8470 - val_loss: 0.0048 - val_mae: 0.0506 - val_rmse: 0.0506 - val_r_square: 0.8486\n",
      "Epoch 7/20\n",
      "6460/6460 [==============================] - 9s 1ms/step - loss: 0.0049 - mae: 0.0510 - rmse: 0.0510 - r_square: 0.8468 - val_loss: 0.0048 - val_mae: 0.0506 - val_rmse: 0.0506 - val_r_square: 0.8483\n",
      "Epoch 8/20\n",
      "6460/6460 [==============================] - 11s 2ms/step - loss: 0.0049 - mae: 0.0510 - rmse: 0.0510 - r_square: 0.8468 - val_loss: 0.0048 - val_mae: 0.0511 - val_rmse: 0.0511 - val_r_square: 0.8477\n",
      "Epoch 9/20\n",
      "6460/6460 [==============================] - 9s 1ms/step - loss: 0.0049 - mae: 0.0510 - rmse: 0.0510 - r_square: 0.8462 - val_loss: 0.0050 - val_mae: 0.0523 - val_rmse: 0.0523 - val_r_square: 0.8439\n",
      "Epoch 10/20\n",
      "6460/6460 [==============================] - 8s 1ms/step - loss: 0.0049 - mae: 0.0510 - rmse: 0.0510 - r_square: 0.8474 - val_loss: 0.0048 - val_mae: 0.0506 - val_rmse: 0.0506 - val_r_square: 0.8485\n",
      "Epoch 11/20\n",
      "6460/6460 [==============================] - 10s 2ms/step - loss: 0.0049 - mae: 0.0509 - rmse: 0.0509 - r_square: 0.8469 - val_loss: 0.0049 - val_mae: 0.0507 - val_rmse: 0.0507 - val_r_square: 0.8472\n",
      "Epoch 12/20\n",
      "6460/6460 [==============================] - 8s 1ms/step - loss: 0.0049 - mae: 0.0511 - rmse: 0.0511 - r_square: 0.8466 - val_loss: 0.0048 - val_mae: 0.0508 - val_rmse: 0.0508 - val_r_square: 0.8487\n",
      "Epoch 13/20\n",
      "6460/6460 [==============================] - 10s 1ms/step - loss: 0.0049 - mae: 0.0510 - rmse: 0.0510 - r_square: 0.8469 - val_loss: 0.0048 - val_mae: 0.0509 - val_rmse: 0.0509 - val_r_square: 0.8484\n",
      "Epoch 14/20\n",
      "6460/6460 [==============================] - 9s 1ms/step - loss: 0.0049 - mae: 0.0510 - rmse: 0.0510 - r_square: 0.8468 - val_loss: 0.0048 - val_mae: 0.0507 - val_rmse: 0.0507 - val_r_square: 0.8488\n",
      "Epoch 15/20\n",
      "6460/6460 [==============================] - 9s 1ms/step - loss: 0.0048 - mae: 0.0508 - rmse: 0.0508 - r_square: 0.8482 - val_loss: 0.0048 - val_mae: 0.0508 - val_rmse: 0.0508 - val_r_square: 0.8487\n",
      "Epoch 16/20\n",
      "6460/6460 [==============================] - 8s 1ms/step - loss: 0.0049 - mae: 0.0510 - rmse: 0.0510 - r_square: 0.8467 - val_loss: 0.0049 - val_mae: 0.0511 - val_rmse: 0.0511 - val_r_square: 0.8475\n",
      "Epoch 17/20\n",
      "6460/6460 [==============================] - 7s 1ms/step - loss: 0.0049 - mae: 0.0510 - rmse: 0.0510 - r_square: 0.8469 - val_loss: 0.0048 - val_mae: 0.0506 - val_rmse: 0.0506 - val_r_square: 0.8487\n",
      "Epoch 18/20\n",
      "6460/6460 [==============================] - 9s 1ms/step - loss: 0.0049 - mae: 0.0511 - rmse: 0.0511 - r_square: 0.8470 - val_loss: 0.0048 - val_mae: 0.0507 - val_rmse: 0.0507 - val_r_square: 0.8486\n",
      "Epoch 19/20\n",
      "6460/6460 [==============================] - 9s 1ms/step - loss: 0.0048 - mae: 0.0509 - rmse: 0.0509 - r_square: 0.8478 - val_loss: 0.0048 - val_mae: 0.0511 - val_rmse: 0.0511 - val_r_square: 0.8478\n",
      "Epoch 20/20\n",
      "6460/6460 [==============================] - 8s 1ms/step - loss: 0.0049 - mae: 0.0510 - rmse: 0.0510 - r_square: 0.8468 - val_loss: 0.0048 - val_mae: 0.0506 - val_rmse: 0.0506 - val_r_square: 0.8487\n"
     ]
    }
   ],
   "source": [
    "n_features = 6\n",
    "n_hidden   = 4\n",
    "model = Sequential()\n",
    "model.add(InputLayer(input_shape=(n_features,)))\n",
    "model.add(Dense(1))\n",
    "model.add(Activation('linear'))\n",
    "optimizer = optimizers.SGD(learning_rate=0.1)\n",
    "model.compile(optimizer=optimizer,\n",
    "              loss='mse', metrics=['mae', rmse, r_square])\n",
    "log = model.fit(X_train, Y_train, epochs=20, batch_size=64, verbose=1,\n",
    "         validation_data=(X_validation, Y_validation))\n",
    "Y_pred = model.predict(X_test)"
   ]
  },
  {
   "cell_type": "code",
   "execution_count": 24,
   "metadata": {},
   "outputs": [
    {
     "data": {
      "image/png": "[encoded data removed]",
      "text/plain": [
       "<Figure size 432x288 with 1 Axes>"
      ]
     },
     "metadata": {
      "needs_background": "light"
     },
     "output_type": "display_data"
    },
    {
     "data": {
      "image/png": "[encoded data removed]",
      "text/plain": [
       "<Figure size 432x288 with 1 Axes>"
      ]
     },
     "metadata": {
      "needs_background": "light"
     },
     "output_type": "display_data"
    }
   ],
   "source": [
    "plt.plot(log.history['val_r_square'])\n",
    "plt.plot(log.history['r_square'])\n",
    "plt.title('model R^2')\n",
    "plt.ylabel('R^2')\n",
    "plt.xlabel('epoch')\n",
    "plt.legend(['train', 'test'], loc='upper left')\n",
    "plt.show()\n",
    "\n",
    "# plot training curve for rmse\n",
    "plt.plot(log.history['mae'])\n",
    "plt.plot(log.history['val_mae'])\n",
    "plt.title('mae')\n",
    "plt.ylabel('mae')\n",
    "plt.xlabel('epoch')\n",
    "plt.legend(['train', 'test'], loc='upper left')\n",
    "plt.show()"
   ]
  },
  {
   "cell_type": "code",
   "execution_count": 25,
   "metadata": {},
   "outputs": [
    {
     "name": "stdout",
     "output_type": "stream",
     "text": [
      "Epoch 1/20\n",
      "6460/6460 [==============================] - 9s 1ms/step - loss: 0.0146 - mae: 0.0841 - rmse: 0.0841 - r_square: 0.5492 - val_loss: 0.0050 - val_mae: 0.0515 - val_rmse: 0.0515 - val_r_square: 0.8442\n",
      "Epoch 2/20\n",
      "6460/6460 [==============================] - 9s 1ms/step - loss: 0.0049 - mae: 0.0515 - rmse: 0.0515 - r_square: 0.8438 - val_loss: 0.0050 - val_mae: 0.0514 - val_rmse: 0.0514 - val_r_square: 0.8435\n",
      "Epoch 3/20\n",
      "6460/6460 [==============================] - 9s 1ms/step - loss: 0.0049 - mae: 0.0511 - rmse: 0.0511 - r_square: 0.8466 - val_loss: 0.0049 - val_mae: 0.0509 - val_rmse: 0.0509 - val_r_square: 0.8459\n",
      "Epoch 4/20\n",
      "6460/6460 [==============================] - 8s 1ms/step - loss: 0.0049 - mae: 0.0511 - rmse: 0.0511 - r_square: 0.8462 - val_loss: 0.0049 - val_mae: 0.0508 - val_rmse: 0.0508 - val_r_square: 0.8462\n",
      "Epoch 5/20\n",
      "6460/6460 [==============================] - 8s 1ms/step - loss: 0.0049 - mae: 0.0509 - rmse: 0.0509 - r_square: 0.8469 - val_loss: 0.0049 - val_mae: 0.0506 - val_rmse: 0.0506 - val_r_square: 0.8472\n",
      "Epoch 6/20\n",
      "6460/6460 [==============================] - 9s 1ms/step - loss: 0.0049 - mae: 0.0510 - rmse: 0.0510 - r_square: 0.8465 - val_loss: 0.0048 - val_mae: 0.0505 - val_rmse: 0.0505 - val_r_square: 0.8483\n",
      "Epoch 7/20\n",
      "6460/6460 [==============================] - 9s 1ms/step - loss: 0.0049 - mae: 0.0508 - rmse: 0.0508 - r_square: 0.8473 - val_loss: 0.0048 - val_mae: 0.0504 - val_rmse: 0.0504 - val_r_square: 0.8487\n",
      "Epoch 8/20\n",
      "6460/6460 [==============================] - 8s 1ms/step - loss: 0.0049 - mae: 0.0509 - rmse: 0.0509 - r_square: 0.8467 - val_loss: 0.0048 - val_mae: 0.0506 - val_rmse: 0.0506 - val_r_square: 0.8492\n",
      "Epoch 9/20\n",
      "6460/6460 [==============================] - 9s 1ms/step - loss: 0.0049 - mae: 0.0508 - rmse: 0.0508 - r_square: 0.8467 - val_loss: 0.0048 - val_mae: 0.0507 - val_rmse: 0.0507 - val_r_square: 0.8491\n",
      "Epoch 10/20\n",
      "6460/6460 [==============================] - 8s 1ms/step - loss: 0.0048 - mae: 0.0507 - rmse: 0.0507 - r_square: 0.8482 - val_loss: 0.0048 - val_mae: 0.0504 - val_rmse: 0.0504 - val_r_square: 0.84850.0048 - mae: 0.0507 -\n",
      "Epoch 11/20\n",
      "6460/6460 [==============================] - 8s 1ms/step - loss: 0.0048 - mae: 0.0507 - rmse: 0.0507 - r_square: 0.8481 - val_loss: 0.0048 - val_mae: 0.0504 - val_rmse: 0.0504 - val_r_square: 0.8496\n",
      "Epoch 12/20\n",
      "6460/6460 [==============================] - 8s 1ms/step - loss: 0.0048 - mae: 0.0508 - rmse: 0.0508 - r_square: 0.8470 - val_loss: 0.0049 - val_mae: 0.0505 - val_rmse: 0.0505 - val_r_square: 0.8470\n",
      "Epoch 13/20\n",
      "6460/6460 [==============================] - 8s 1ms/step - loss: 0.0049 - mae: 0.0508 - rmse: 0.0508 - r_square: 0.8470 - val_loss: 0.0048 - val_mae: 0.0503 - val_rmse: 0.0503 - val_r_square: 0.8497\n",
      "Epoch 14/20\n",
      "6460/6460 [==============================] - 8s 1ms/step - loss: 0.0048 - mae: 0.0507 - rmse: 0.0507 - r_square: 0.8480 - val_loss: 0.0048 - val_mae: 0.0508 - val_rmse: 0.0508 - val_r_square: 0.8488\n",
      "Epoch 15/20\n",
      "6460/6460 [==============================] - 8s 1ms/step - loss: 0.0048 - mae: 0.0507 - rmse: 0.0507 - r_square: 0.8471 - val_loss: 0.0049 - val_mae: 0.0513 - val_rmse: 0.0513 - val_r_square: 0.8472\n",
      "Epoch 16/20\n",
      "6460/6460 [==============================] - 10s 2ms/step - loss: 0.0048 - mae: 0.0507 - rmse: 0.0507 - r_square: 0.8476 - val_loss: 0.0048 - val_mae: 0.0503 - val_rmse: 0.0503 - val_r_square: 0.8488\n",
      "Epoch 17/20\n",
      "6460/6460 [==============================] - 9s 1ms/step - loss: 0.0048 - mae: 0.0507 - rmse: 0.0507 - r_square: 0.8472 - val_loss: 0.0048 - val_mae: 0.0503 - val_rmse: 0.0503 - val_r_square: 0.8499\n",
      "Epoch 18/20\n",
      "6460/6460 [==============================] - 8s 1ms/step - loss: 0.0048 - mae: 0.0506 - rmse: 0.0506 - r_square: 0.8484 - val_loss: 0.0048 - val_mae: 0.0503 - val_rmse: 0.0503 - val_r_square: 0.8499\n",
      "Epoch 19/20\n",
      "6460/6460 [==============================] - 9s 1ms/step - loss: 0.0048 - mae: 0.0507 - rmse: 0.0507 - r_square: 0.8472 - val_loss: 0.0049 - val_mae: 0.0505 - val_rmse: 0.0505 - val_r_square: 0.8467\n",
      "Epoch 20/20\n",
      "6460/6460 [==============================] - 8s 1ms/step - loss: 0.0048 - mae: 0.0505 - rmse: 0.0505 - r_square: 0.8491 - val_loss: 0.0049 - val_mae: 0.0519 - val_rmse: 0.0519 - val_r_square: 0.8454\n"
     ]
    },
    {
     "data": {
      "image/png": "[encoded data removed]",
      "text/plain": [
       "<Figure size 432x288 with 1 Axes>"
      ]
     },
     "metadata": {
      "needs_background": "light"
     },
     "output_type": "display_data"
    },
    {
     "data": {
      "image/png": "[encoded data removed]",
      "text/plain": [
       "<Figure size 432x288 with 1 Axes>"
      ]
     },
     "metadata": {
      "needs_background": "light"
     },
     "output_type": "display_data"
    }
   ],
   "source": [
    "n_features = 6\n",
    "n_hidden   = 4\n",
    "model = Sequential()\n",
    "model.add(InputLayer(input_shape=(n_features,)))\n",
    "model.add(Dense(n_hidden, activation='sigmoid'))\n",
    "model.add(Dense(1))\n",
    "model.add(Activation('linear'))\n",
    "optimizer = optimizers.SGD(learning_rate=0.1)\n",
    "model.compile(optimizer=optimizer,\n",
    "              loss='mse', metrics=['mae', rmse, r_square])\n",
    "log = model.fit(X_train, Y_train, epochs=20, batch_size=64, verbose=1,\n",
    "         validation_data=(X_validation, Y_validation))\n",
    "Y_pred = model.predict(X_test)\n",
    "Y_pred = model.predict(X_test)\n",
    "plt.plot(log.history['val_r_square'])\n",
    "plt.plot(log.history['r_square'])\n",
    "plt.title('model R^2')\n",
    "plt.ylabel('R^2')\n",
    "plt.xlabel('epoch')\n",
    "plt.legend(['train', 'test'], loc='upper left')\n",
    "plt.show()\n",
    "\n",
    "# plot training curve for rmse\n",
    "plt.plot(log.history['mae'])\n",
    "plt.plot(log.history['val_mae'])\n",
    "plt.title('mae')\n",
    "plt.ylabel('mae')\n",
    "plt.xlabel('epoch')\n",
    "plt.legend(['train', 'test'], loc='upper left')\n",
    "plt.show()"
   ]
  },
  {
   "cell_type": "code",
   "execution_count": 26,
   "metadata": {},
   "outputs": [
    {
     "name": "stdout",
     "output_type": "stream",
     "text": [
      "Epoch 1/20\n",
      "6460/6460 [==============================] - 9s 1ms/step - loss: 0.0081 - mae: 0.0648 - rmse: 0.0648 - r_square: 0.7461 - val_loss: 0.0049 - val_mae: 0.0515 - val_rmse: 0.0515 - val_r_square: 0.8467\n",
      "Epoch 2/20\n",
      "6460/6460 [==============================] - 8s 1ms/step - loss: 0.0049 - mae: 0.0517 - rmse: 0.0517 - r_square: 0.8447 - val_loss: 0.0049 - val_mae: 0.0509 - val_rmse: 0.0509 - val_r_square: 0.8475\n",
      "Epoch 3/20\n",
      "6460/6460 [==============================] - 8s 1ms/step - loss: 0.0049 - mae: 0.0513 - rmse: 0.0513 - r_square: 0.8464 - val_loss: 0.0049 - val_mae: 0.0523 - val_rmse: 0.0523 - val_r_square: 0.8450\n",
      "Epoch 4/20\n",
      "6460/6460 [==============================] - 8s 1ms/step - loss: 0.0049 - mae: 0.0512 - rmse: 0.0512 - r_square: 0.8469 - val_loss: 0.0048 - val_mae: 0.0509 - val_rmse: 0.0509 - val_r_square: 0.8499\n",
      "Epoch 5/20\n",
      "6460/6460 [==============================] - 9s 1ms/step - loss: 0.0048 - mae: 0.0511 - rmse: 0.0511 - r_square: 0.8477 - val_loss: 0.0049 - val_mae: 0.0508 - val_rmse: 0.0508 - val_r_square: 0.8476\n",
      "Epoch 6/20\n",
      "6460/6460 [==============================] - 9s 1ms/step - loss: 0.0048 - mae: 0.0510 - rmse: 0.0510 - r_square: 0.8482 - val_loss: 0.0048 - val_mae: 0.0507 - val_rmse: 0.0507 - val_r_square: 0.8508\n",
      "Epoch 7/20\n",
      "6460/6460 [==============================] - 8s 1ms/step - loss: 0.0048 - mae: 0.0510 - rmse: 0.0510 - r_square: 0.8486 - val_loss: 0.0047 - val_mae: 0.0506 - val_rmse: 0.0506 - val_r_square: 0.8514\n",
      "Epoch 8/20\n",
      "6460/6460 [==============================] - 9s 1ms/step - loss: 0.0048 - mae: 0.0509 - rmse: 0.0509 - r_square: 0.8500 - val_loss: 0.0048 - val_mae: 0.0510 - val_rmse: 0.0510 - val_r_square: 0.8508\n",
      "Epoch 9/20\n",
      "6460/6460 [==============================] - 10s 1ms/step - loss: 0.0048 - mae: 0.0510 - rmse: 0.0510 - r_square: 0.8499 - val_loss: 0.0047 - val_mae: 0.0505 - val_rmse: 0.0505 - val_r_square: 0.8519\n",
      "Epoch 10/20\n",
      "6460/6460 [==============================] - 9s 1ms/step - loss: 0.0048 - mae: 0.0510 - rmse: 0.0510 - r_square: 0.8495 - val_loss: 0.0050 - val_mae: 0.0530 - val_rmse: 0.0530 - val_r_square: 0.8435\n",
      "Epoch 11/20\n",
      "6460/6460 [==============================] - 8s 1ms/step - loss: 0.0048 - mae: 0.0509 - rmse: 0.0509 - r_square: 0.8490 - val_loss: 0.0047 - val_mae: 0.0505 - val_rmse: 0.0505 - val_r_square: 0.8524\n",
      "Epoch 12/20\n",
      "6460/6460 [==============================] - 8s 1ms/step - loss: 0.0047 - mae: 0.0508 - rmse: 0.0508 - r_square: 0.8504 - val_loss: 0.0047 - val_mae: 0.0504 - val_rmse: 0.0504 - val_r_square: 0.8526\n",
      "Epoch 13/20\n",
      "6460/6460 [==============================] - 8s 1ms/step - loss: 0.0048 - mae: 0.0509 - rmse: 0.0509 - r_square: 0.8495 - val_loss: 0.0047 - val_mae: 0.0503 - val_rmse: 0.0503 - val_r_square: 0.8520\n",
      "Epoch 14/20\n",
      "6460/6460 [==============================] - 8s 1ms/step - loss: 0.0047 - mae: 0.0509 - rmse: 0.0509 - r_square: 0.8509 - val_loss: 0.0048 - val_mae: 0.0521 - val_rmse: 0.0521 - val_r_square: 0.8474\n",
      "Epoch 15/20\n",
      "6460/6460 [==============================] - 9s 1ms/step - loss: 0.0048 - mae: 0.0509 - rmse: 0.0509 - r_square: 0.8498 - val_loss: 0.0047 - val_mae: 0.0503 - val_rmse: 0.0503 - val_r_square: 0.8527\n",
      "Epoch 16/20\n",
      "6460/6460 [==============================] - 9s 1ms/step - loss: 0.0047 - mae: 0.0508 - rmse: 0.0508 - r_square: 0.8505 - val_loss: 0.0048 - val_mae: 0.0504 - val_rmse: 0.0504 - val_r_square: 0.8509\n",
      "Epoch 17/20\n",
      "6460/6460 [==============================] - 9s 1ms/step - loss: 0.0047 - mae: 0.0508 - rmse: 0.0508 - r_square: 0.8507 - val_loss: 0.0047 - val_mae: 0.0510 - val_rmse: 0.0510 - val_r_square: 0.8517\n",
      "Epoch 18/20\n",
      "6460/6460 [==============================] - 9s 1ms/step - loss: 0.0048 - mae: 0.0510 - rmse: 0.0510 - r_square: 0.8500 - val_loss: 0.0047 - val_mae: 0.0510 - val_rmse: 0.0510 - val_r_square: 0.8517\n",
      "Epoch 19/20\n",
      "6460/6460 [==============================] - 8s 1ms/step - loss: 0.0048 - mae: 0.0509 - rmse: 0.0509 - r_square: 0.8501 - val_loss: 0.0048 - val_mae: 0.0514 - val_rmse: 0.0514 - val_r_square: 0.8503\n",
      "Epoch 20/20\n",
      "6460/6460 [==============================] - 8s 1ms/step - loss: 0.0048 - mae: 0.0508 - rmse: 0.0508 - r_square: 0.8507 - val_loss: 0.0048 - val_mae: 0.0504 - val_rmse: 0.0504 - val_r_square: 0.8511\n"
     ]
    },
    {
     "data": {
      "image/png": "[encoded data removed]",
      "text/plain": [
       "<Figure size 432x288 with 1 Axes>"
      ]
     },
     "metadata": {
      "needs_background": "light"
     },
     "output_type": "display_data"
    },
    {
     "data": {
      "image/png": "[encoded data removed]",
      "text/plain": [
       "<Figure size 432x288 with 1 Axes>"
      ]
     },
     "metadata": {
      "needs_background": "light"
     },
     "output_type": "display_data"
    }
   ],
   "source": [
    "n_features = 6\n",
    "n_hidden   = 4\n",
    "model = Sequential()\n",
    "model.add(InputLayer(input_shape=(n_features,)))\n",
    "model.add(Dense(n_hidden, activation='tanh'))\n",
    "model.add(Dense(1))\n",
    "model.add(Activation('linear'))\n",
    "optimizer = optimizers.SGD(learning_rate=0.1)\n",
    "model.compile(optimizer=optimizer,\n",
    "              loss='mse', metrics=['mae', rmse, r_square])\n",
    "log = model.fit(X_train, Y_train, epochs=20, batch_size=64, verbose=1,\n",
    "         validation_data=(X_validation, Y_validation))\n",
    "Y_pred = model.predict(X_test)\n",
    "Y_pred = model.predict(X_test)\n",
    "plt.plot(log.history['val_r_square'])\n",
    "plt.plot(log.history['r_square'])\n",
    "plt.title('model R^2')\n",
    "plt.ylabel('R^2')\n",
    "plt.xlabel('epoch')\n",
    "plt.legend(['train', 'test'], loc='upper left')\n",
    "plt.show()\n",
    "\n",
    "# plot training curve for rmse\n",
    "plt.plot(log.history['mae'])\n",
    "plt.plot(log.history['val_mae'])\n",
    "plt.title('mae')\n",
    "plt.ylabel('mae')\n",
    "plt.xlabel('epoch')\n",
    "plt.legend(['train', 'test'], loc='upper left')\n",
    "plt.show()"
   ]
  },
  {
   "cell_type": "code",
   "execution_count": 27,
   "metadata": {},
   "outputs": [
    {
     "name": "stdout",
     "output_type": "stream",
     "text": [
      "Epoch 1/30\n",
      "6460/6460 [==============================] - 9s 1ms/step - loss: 0.0115 - mae: 0.0687 - rmse: 0.0687 - r_square: 0.6561 - val_loss: 0.0050 - val_mae: 0.0511 - val_rmse: 0.0511 - val_r_square: 0.8440\n",
      "Epoch 2/30\n",
      "6460/6460 [==============================] - 9s 1ms/step - loss: 0.0050 - mae: 0.0520 - rmse: 0.0520 - r_square: 0.8424 - val_loss: 0.0049 - val_mae: 0.0505 - val_rmse: 0.0505 - val_r_square: 0.8474\n",
      "Epoch 3/30\n",
      "6460/6460 [==============================] - 9s 1ms/step - loss: 0.0050 - mae: 0.0514 - rmse: 0.0514 - r_square: 0.8442 - val_loss: 0.0050 - val_mae: 0.0524 - val_rmse: 0.0524 - val_r_square: 0.8436\n",
      "Epoch 4/30\n",
      "6460/6460 [==============================] - 9s 1ms/step - loss: 0.0049 - mae: 0.0511 - rmse: 0.0511 - r_square: 0.8462 - val_loss: 0.0049 - val_mae: 0.0517 - val_rmse: 0.0517 - val_r_square: 0.8465\n",
      "Epoch 5/30\n",
      "6460/6460 [==============================] - 9s 1ms/step - loss: 0.0049 - mae: 0.0510 - rmse: 0.0510 - r_square: 0.8461 - val_loss: 0.0048 - val_mae: 0.0507 - val_rmse: 0.0507 - val_r_square: 0.8493\n",
      "Epoch 6/30\n",
      "6460/6460 [==============================] - 9s 1ms/step - loss: 0.0049 - mae: 0.0510 - rmse: 0.0510 - r_square: 0.8469 - val_loss: 0.0048 - val_mae: 0.0503 - val_rmse: 0.0503 - val_r_square: 0.8500\n",
      "Epoch 7/30\n",
      "6460/6460 [==============================] - 9s 1ms/step - loss: 0.0048 - mae: 0.0509 - rmse: 0.0509 - r_square: 0.8474 - val_loss: 0.0048 - val_mae: 0.0503 - val_rmse: 0.0503 - val_r_square: 0.8495\n",
      "Epoch 8/30\n",
      "6460/6460 [==============================] - 9s 1ms/step - loss: 0.0049 - mae: 0.0509 - rmse: 0.0509 - r_square: 0.8472 - val_loss: 0.0048 - val_mae: 0.0501 - val_rmse: 0.0501 - val_r_square: 0.8500\n",
      "Epoch 9/30\n",
      "6460/6460 [==============================] - 9s 1ms/step - loss: 0.0048 - mae: 0.0507 - rmse: 0.0507 - r_square: 0.8488 - val_loss: 0.0048 - val_mae: 0.0504 - val_rmse: 0.0504 - val_r_square: 0.8502\n",
      "Epoch 10/30\n",
      "6460/6460 [==============================] - 10s 2ms/step - loss: 0.0049 - mae: 0.0509 - rmse: 0.0509 - r_square: 0.8472 - val_loss: 0.0048 - val_mae: 0.0507 - val_rmse: 0.0507 - val_r_square: 0.8496\n",
      "Epoch 11/30\n",
      "6460/6460 [==============================] - 10s 2ms/step - loss: 0.0048 - mae: 0.0508 - rmse: 0.0508 - r_square: 0.8475 - val_loss: 0.0048 - val_mae: 0.0502 - val_rmse: 0.0502 - val_r_square: 0.8484\n",
      "Epoch 12/30\n",
      "6460/6460 [==============================] - 10s 2ms/step - loss: 0.0048 - mae: 0.0507 - rmse: 0.0507 - r_square: 0.8484 - val_loss: 0.0048 - val_mae: 0.0507 - val_rmse: 0.0507 - val_r_square: 0.8494\n",
      "Epoch 13/30\n",
      "6460/6460 [==============================] - 11s 2ms/step - loss: 0.0048 - mae: 0.0507 - rmse: 0.0507 - r_square: 0.8481 - val_loss: 0.0048 - val_mae: 0.0505 - val_rmse: 0.0505 - val_r_square: 0.8504\n",
      "Epoch 14/30\n",
      "6460/6460 [==============================] - 11s 2ms/step - loss: 0.0048 - mae: 0.0506 - rmse: 0.0506 - r_square: 0.8483 - val_loss: 0.0048 - val_mae: 0.0503 - val_rmse: 0.0503 - val_r_square: 0.8507\n",
      "Epoch 15/30\n",
      "6460/6460 [==============================] - 11s 2ms/step - loss: 0.0048 - mae: 0.0507 - rmse: 0.0507 - r_square: 0.8478 - val_loss: 0.0048 - val_mae: 0.0507 - val_rmse: 0.0507 - val_r_square: 0.8494\n",
      "Epoch 16/30\n",
      "6460/6460 [==============================] - 11s 2ms/step - loss: 0.0048 - mae: 0.0507 - rmse: 0.0507 - r_square: 0.8476 - val_loss: 0.0048 - val_mae: 0.0513 - val_rmse: 0.0513 - val_r_square: 0.8484\n",
      "Epoch 17/30\n",
      "6460/6460 [==============================] - 10s 2ms/step - loss: 0.0048 - mae: 0.0507 - rmse: 0.0507 - r_square: 0.8478 - val_loss: 0.0047 - val_mae: 0.0501 - val_rmse: 0.0501 - val_r_square: 0.8510\n",
      "Epoch 18/30\n",
      "6460/6460 [==============================] - 10s 2ms/step - loss: 0.0048 - mae: 0.0505 - rmse: 0.0505 - r_square: 0.8490 - val_loss: 0.0047 - val_mae: 0.0502 - val_rmse: 0.0502 - val_r_square: 0.8512\n",
      "Epoch 19/30\n",
      "6460/6460 [==============================] - 11s 2ms/step - loss: 0.0048 - mae: 0.0506 - rmse: 0.0506 - r_square: 0.8486 - val_loss: 0.0048 - val_mae: 0.0502 - val_rmse: 0.0502 - val_r_square: 0.8508\n",
      "Epoch 20/30\n",
      "6460/6460 [==============================] - 11s 2ms/step - loss: 0.0048 - mae: 0.0507 - rmse: 0.0507 - r_square: 0.8480 - val_loss: 0.0048 - val_mae: 0.0500 - val_rmse: 0.0500 - val_r_square: 0.8509\n",
      "Epoch 21/30\n",
      "6460/6460 [==============================] - 10s 2ms/step - loss: 0.0048 - mae: 0.0506 - rmse: 0.0506 - r_square: 0.8487 - val_loss: 0.0048 - val_mae: 0.0506 - val_rmse: 0.0506 - val_r_square: 0.8504\n",
      "Epoch 22/30\n",
      "6460/6460 [==============================] - 11s 2ms/step - loss: 0.0048 - mae: 0.0506 - rmse: 0.0506 - r_square: 0.8482 - val_loss: 0.0048 - val_mae: 0.0506 - val_rmse: 0.0506 - val_r_square: 0.8501\n",
      "Epoch 23/30\n",
      "6460/6460 [==============================] - 10s 2ms/step - loss: 0.0048 - mae: 0.0505 - rmse: 0.0505 - r_square: 0.8487 - val_loss: 0.0048 - val_mae: 0.0507 - val_rmse: 0.0507 - val_r_square: 0.8499\n",
      "Epoch 24/30\n",
      "6460/6460 [==============================] - 11s 2ms/step - loss: 0.0048 - mae: 0.0505 - rmse: 0.0505 - r_square: 0.8490 - val_loss: 0.0048 - val_mae: 0.0512 - val_rmse: 0.0512 - val_r_square: 0.8490\n",
      "Epoch 25/30\n",
      "6460/6460 [==============================] - 11s 2ms/step - loss: 0.0048 - mae: 0.0504 - rmse: 0.0504 - r_square: 0.8495 - val_loss: 0.0047 - val_mae: 0.0500 - val_rmse: 0.0500 - val_r_square: 0.8519\n",
      "Epoch 26/30\n",
      "6460/6460 [==============================] - 11s 2ms/step - loss: 0.0047 - mae: 0.0504 - rmse: 0.0504 - r_square: 0.8506 - val_loss: 0.0047 - val_mae: 0.0499 - val_rmse: 0.0499 - val_r_square: 0.8520\n",
      "Epoch 27/30\n",
      "6460/6460 [==============================] - 11s 2ms/step - loss: 0.0048 - mae: 0.0505 - rmse: 0.0505 - r_square: 0.8507 - val_loss: 0.0049 - val_mae: 0.0519 - val_rmse: 0.0519 - val_r_square: 0.8474\n",
      "Epoch 28/30\n",
      "6460/6460 [==============================] - 8s 1ms/step - loss: 0.0048 - mae: 0.0505 - rmse: 0.0505 - r_square: 0.8495 - val_loss: 0.0048 - val_mae: 0.0501 - val_rmse: 0.0501 - val_r_square: 0.8498\n",
      "Epoch 29/30\n",
      "6460/6460 [==============================] - 8s 1ms/step - loss: 0.0047 - mae: 0.0502 - rmse: 0.0502 - r_square: 0.8509 - val_loss: 0.0048 - val_mae: 0.0517 - val_rmse: 0.0517 - val_r_square: 0.8476\n",
      "Epoch 30/30\n",
      "6460/6460 [==============================] - 9s 1ms/step - loss: 0.0047 - mae: 0.0503 - rmse: 0.0503 - r_square: 0.8507 - val_loss: 0.0047 - val_mae: 0.0499 - val_rmse: 0.0499 - val_r_square: 0.8532\n"
     ]
    },
    {
     "data": {
      "image/png": "[encoded data removed]",
      "text/plain": [
       "<Figure size 432x288 with 1 Axes>"
      ]
     },
     "metadata": {
      "needs_background": "light"
     },
     "output_type": "display_data"
    },
    {
     "data": {
      "image/png": "[encoded data removed]",
      "text/plain": [
       "<Figure size 432x288 with 1 Axes>"
      ]
     },
     "metadata": {
      "needs_background": "light"
     },
     "output_type": "display_data"
    }
   ],
   "source": [
    "n_features = 6\n",
    "n_hidden   = 4\n",
    "model = Sequential()\n",
    "model.add(InputLayer(input_shape=(n_features,)))\n",
    "model.add(Dense(n_hidden, activation='tanh'))\n",
    "model.add(Dense(n_hidden, activation='tanh'))\n",
    "model.add(Dense(n_hidden, activation='tanh'))\n",
    "model.add(Dense(1))\n",
    "model.add(Activation('linear'))\n",
    "# optimizer = optimizers.Adam(learning_rate=0.001, beta_1 = 0.9, beta_2=0.999, amsgrad=True)\n",
    "optimizer = optimizers.SGD(learning_rate=0.1)\n",
    "model.compile(optimizer=optimizer,\n",
    "              loss='mse', metrics=['mae', rmse, r_square])\n",
    "log = model.fit(X_train, Y_train, epochs=30, batch_size=64, verbose=1,\n",
    "         validation_data=(X_validation, Y_validation))\n",
    "Y_pred = model.predict(X_test)\n",
    "Y_pred = model.predict(X_test)\n",
    "plt.plot(log.history['val_r_square'])\n",
    "plt.plot(log.history['r_square'])\n",
    "plt.title('model R^2')\n",
    "plt.ylabel('R^2')\n",
    "plt.xlabel('epoch')\n",
    "plt.legend(['train', 'test'], loc='upper left')\n",
    "plt.show()\n",
    "\n",
    "# plot training curve for rmse\n",
    "plt.plot(log.history['mae'])\n",
    "plt.plot(log.history['val_mae'])\n",
    "plt.title('mae')\n",
    "plt.ylabel('mae')\n",
    "plt.xlabel('epoch')\n",
    "plt.legend(['train', 'test'], loc='upper left')\n",
    "plt.show()"
   ]
  },
  {
   "cell_type": "code",
   "execution_count": 28,
   "metadata": {},
   "outputs": [
    {
     "name": "stdout",
     "output_type": "stream",
     "text": [
      "Epoch 1/30\n",
      "6460/6460 [==============================] - 11s 2ms/step - loss: 0.0076 - mae: 0.0621 - rmse: 0.0621 - r_square: 0.7658 - val_loss: 0.0048 - val_mae: 0.0509 - val_rmse: 0.0509 - val_r_square: 0.8507\n",
      "Epoch 2/30\n",
      "6460/6460 [==============================] - 11s 2ms/step - loss: 0.0048 - mae: 0.0510 - rmse: 0.0510 - r_square: 0.8482 - val_loss: 0.0047 - val_mae: 0.0500 - val_rmse: 0.0500 - val_r_square: 0.8540\n",
      "Epoch 3/30\n",
      "6460/6460 [==============================] - 9s 1ms/step - loss: 0.0047 - mae: 0.0504 - rmse: 0.0504 - r_square: 0.8515 - val_loss: 0.0046 - val_mae: 0.0506 - val_rmse: 0.0506 - val_r_square: 0.8544\n",
      "Epoch 4/30\n",
      "6460/6460 [==============================] - 10s 1ms/step - loss: 0.0046 - mae: 0.0499 - rmse: 0.0499 - r_square: 0.8547 - val_loss: 0.0045 - val_mae: 0.0494 - val_rmse: 0.0494 - val_r_square: 0.8586\n",
      "Epoch 5/30\n",
      "6460/6460 [==============================] - 9s 1ms/step - loss: 0.0046 - mae: 0.0497 - rmse: 0.0497 - r_square: 0.8562 - val_loss: 0.0045 - val_mae: 0.0494 - val_rmse: 0.0494 - val_r_square: 0.8593\n",
      "Epoch 6/30\n",
      "6460/6460 [==============================] - 9s 1ms/step - loss: 0.0045 - mae: 0.0494 - rmse: 0.0494 - r_square: 0.8577 - val_loss: 0.0045 - val_mae: 0.0490 - val_rmse: 0.0490 - val_r_square: 0.8578\n",
      "Epoch 7/30\n",
      "6460/6460 [==============================] - 10s 2ms/step - loss: 0.0045 - mae: 0.0493 - rmse: 0.0493 - r_square: 0.8580 - val_loss: 0.0045 - val_mae: 0.0500 - val_rmse: 0.0500 - val_r_square: 0.8573\n",
      "Epoch 8/30\n",
      "6460/6460 [==============================] - 9s 1ms/step - loss: 0.0045 - mae: 0.0492 - rmse: 0.0492 - r_square: 0.8585 - val_loss: 0.0045 - val_mae: 0.0492 - val_rmse: 0.0492 - val_r_square: 0.8600\n",
      "Epoch 9/30\n",
      "6460/6460 [==============================] - 9s 1ms/step - loss: 0.0045 - mae: 0.0492 - rmse: 0.0492 - r_square: 0.8585 - val_loss: 0.0045 - val_mae: 0.0496 - val_rmse: 0.0496 - val_r_square: 0.8583\n",
      "Epoch 10/30\n",
      "6460/6460 [==============================] - 9s 1ms/step - loss: 0.0045 - mae: 0.0491 - rmse: 0.0491 - r_square: 0.8593 - val_loss: 0.0044 - val_mae: 0.0484 - val_rmse: 0.0484 - val_r_square: 0.8615\n",
      "Epoch 11/30\n",
      "6460/6460 [==============================] - 9s 1ms/step - loss: 0.0045 - mae: 0.0489 - rmse: 0.0489 - r_square: 0.8598 - val_loss: 0.0046 - val_mae: 0.0490 - val_rmse: 0.0490 - val_r_square: 0.8567\n",
      "Epoch 12/30\n",
      "6460/6460 [==============================] - 10s 2ms/step - loss: 0.0045 - mae: 0.0490 - rmse: 0.0490 - r_square: 0.8588 - val_loss: 0.0044 - val_mae: 0.0484 - val_rmse: 0.0484 - val_r_square: 0.8620\n",
      "Epoch 13/30\n",
      "6460/6460 [==============================] - 14s 2ms/step - loss: 0.0044 - mae: 0.0489 - rmse: 0.0489 - r_square: 0.8605 - val_loss: 0.0044 - val_mae: 0.0484 - val_rmse: 0.0484 - val_r_square: 0.8616\n",
      "Epoch 14/30\n",
      "6460/6460 [==============================] - 14s 2ms/step - loss: 0.0044 - mae: 0.0488 - rmse: 0.0488 - r_square: 0.8605 - val_loss: 0.0044 - val_mae: 0.0485 - val_rmse: 0.0485 - val_r_square: 0.8627\n",
      "Epoch 15/30\n",
      "6460/6460 [==============================] - 12s 2ms/step - loss: 0.0045 - mae: 0.0490 - rmse: 0.0490 - r_square: 0.8591 - val_loss: 0.0044 - val_mae: 0.0492 - val_rmse: 0.0492 - val_r_square: 0.8601\n",
      "Epoch 16/30\n",
      "6460/6460 [==============================] - 10s 2ms/step - loss: 0.0044 - mae: 0.0488 - rmse: 0.0488 - r_square: 0.8601 - val_loss: 0.0044 - val_mae: 0.0488 - val_rmse: 0.0488 - val_r_square: 0.8617\n",
      "Epoch 17/30\n",
      "6460/6460 [==============================] - 10s 2ms/step - loss: 0.0044 - mae: 0.0488 - rmse: 0.0488 - r_square: 0.8612 - val_loss: 0.0044 - val_mae: 0.0483 - val_rmse: 0.0483 - val_r_square: 0.8613\n",
      "Epoch 18/30\n",
      "6460/6460 [==============================] - 9s 1ms/step - loss: 0.0044 - mae: 0.0487 - rmse: 0.0487 - r_square: 0.8604 - val_loss: 0.0044 - val_mae: 0.0483 - val_rmse: 0.0483 - val_r_square: 0.8631\n",
      "Epoch 19/30\n",
      "6460/6460 [==============================] - 10s 1ms/step - loss: 0.0044 - mae: 0.0488 - rmse: 0.0488 - r_square: 0.8610 - val_loss: 0.0044 - val_mae: 0.0484 - val_rmse: 0.0484 - val_r_square: 0.8626\n",
      "Epoch 20/30\n",
      "6460/6460 [==============================] - 10s 2ms/step - loss: 0.0044 - mae: 0.0487 - rmse: 0.0487 - r_square: 0.8604 - val_loss: 0.0043 - val_mae: 0.0484 - val_rmse: 0.0484 - val_r_square: 0.8632\n",
      "Epoch 21/30\n",
      "6460/6460 [==============================] - 10s 2ms/step - loss: 0.0044 - mae: 0.0487 - rmse: 0.0487 - r_square: 0.8599 - val_loss: 0.0044 - val_mae: 0.0482 - val_rmse: 0.0482 - val_r_square: 0.8624\n",
      "Epoch 22/30\n",
      "6460/6460 [==============================] - 10s 2ms/step - loss: 0.0044 - mae: 0.0486 - rmse: 0.0486 - r_square: 0.8618 - val_loss: 0.0044 - val_mae: 0.0484 - val_rmse: 0.0484 - val_r_square: 0.8625\n",
      "Epoch 23/30\n",
      "6460/6460 [==============================] - 10s 2ms/step - loss: 0.0044 - mae: 0.0488 - rmse: 0.0488 - r_square: 0.8599 - val_loss: 0.0043 - val_mae: 0.0481 - val_rmse: 0.0481 - val_r_square: 0.8636\n",
      "Epoch 24/30\n",
      "6460/6460 [==============================] - 11s 2ms/step - loss: 0.0044 - mae: 0.0486 - rmse: 0.0486 - r_square: 0.8620 - val_loss: 0.0044 - val_mae: 0.0486 - val_rmse: 0.0486 - val_r_square: 0.8629\n",
      "Epoch 25/30\n",
      "6460/6460 [==============================] - 10s 2ms/step - loss: 0.0044 - mae: 0.0486 - rmse: 0.0486 - r_square: 0.8623 - val_loss: 0.0043 - val_mae: 0.0484 - val_rmse: 0.0484 - val_r_square: 0.8636\n",
      "Epoch 26/30\n",
      "6460/6460 [==============================] - 10s 2ms/step - loss: 0.0044 - mae: 0.0487 - rmse: 0.0487 - r_square: 0.8609 - val_loss: 0.0043 - val_mae: 0.0482 - val_rmse: 0.0482 - val_r_square: 0.8636\n",
      "Epoch 27/30\n",
      "6460/6460 [==============================] - 11s 2ms/step - loss: 0.0044 - mae: 0.0486 - rmse: 0.0486 - r_square: 0.8619 - val_loss: 0.0044 - val_mae: 0.0492 - val_rmse: 0.0492 - val_r_square: 0.8612\n",
      "Epoch 28/30\n",
      "6460/6460 [==============================] - 10s 2ms/step - loss: 0.0044 - mae: 0.0486 - rmse: 0.0486 - r_square: 0.8625 - val_loss: 0.0044 - val_mae: 0.0482 - val_rmse: 0.0482 - val_r_square: 0.8627\n",
      "Epoch 29/30\n",
      "6460/6460 [==============================] - 10s 2ms/step - loss: 0.0044 - mae: 0.0486 - rmse: 0.0486 - r_square: 0.8619 - val_loss: 0.0043 - val_mae: 0.0483 - val_rmse: 0.0483 - val_r_square: 0.8637\n",
      "Epoch 30/30\n",
      "6460/6460 [==============================] - 9s 1ms/step - loss: 0.0044 - mae: 0.0485 - rmse: 0.0485 - r_square: 0.8626 - val_loss: 0.0044 - val_mae: 0.0495 - val_rmse: 0.0495 - val_r_square: 0.8604\n"
     ]
    },
    {
     "data": {
      "image/png": "[encoded data removed]",
      "text/plain": [
       "<Figure size 432x288 with 1 Axes>"
      ]
     },
     "metadata": {
      "needs_background": "light"
     },
     "output_type": "display_data"
    },
    {
     "data": {
      "image/png": "[encoded data removed]",
      "text/plain": [
       "<Figure size 432x288 with 1 Axes>"
      ]
     },
     "metadata": {
      "needs_background": "light"
     },
     "output_type": "display_data"
    }
   ],
   "source": [
    "n_features = 6\n",
    "n_hidden   = 4\n",
    "model = Sequential()\n",
    "model.add(InputLayer(input_shape=(n_features,)))\n",
    "model.add(Dense(n_hidden, activation='tanh'))\n",
    "model.add(Dense(n_hidden, activation='tanh'))\n",
    "model.add(Dense(n_hidden, activation='tanh'))\n",
    "model.add(Dense(n_hidden, activation='tanh'))\n",
    "model.add(Dense(1))\n",
    "model.add(Activation('linear'))\n",
    "optimizer = optimizers.Adam(learning_rate=0.001)\n",
    "model.compile(optimizer=optimizer,\n",
    "              loss='mse', metrics=['mae', rmse, r_square])\n",
    "log = model.fit(X_train, Y_train, epochs=30, batch_size=64, verbose=1,\n",
    "         validation_data=(X_validation, Y_validation))\n",
    "Y_pred = model.predict(X_test)\n",
    "Y_pred = model.predict(X_test)\n",
    "plt.plot(log.history['val_r_square'])\n",
    "plt.plot(log.history['r_square'])\n",
    "plt.title('model R^2')\n",
    "plt.ylabel('R^2')\n",
    "plt.xlabel('epoch')\n",
    "plt.legend(['train', 'test'], loc='upper left')\n",
    "plt.show()\n",
    "\n",
    "# plot training curve for rmse\n",
    "plt.plot(log.history['mae'])\n",
    "plt.plot(log.history['val_mae'])\n",
    "plt.title('mae')\n",
    "plt.ylabel('mae')\n",
    "plt.xlabel('epoch')\n",
    "plt.legend(['train', 'test'], loc='upper left')\n",
    "plt.show()"
   ]
  },
  {
   "cell_type": "code",
   "execution_count": null,
   "metadata": {},
   "outputs": [],
   "source": []
  }
 ],
 "metadata": {
  "kernelspec": {
   "display_name": "Python 3",
   "language": "python",
   "name": "python3"
  },
  "language_info": {
   "codemirror_mode": {
    "name": "ipython",
    "version": 3
   },
   "file_extension": ".py",
   "mimetype": "text/x-python",
   "name": "python",
   "nbconvert_exporter": "python",
   "pygments_lexer": "ipython3",
   "version": "3.8.6"
  }
 },
 "nbformat": 4,
 "nbformat_minor": 4
}
